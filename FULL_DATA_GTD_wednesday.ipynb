{
  "nbformat": 4,
  "nbformat_minor": 0,
  "metadata": {
    "colab": {
      "name": "FULL_DATA_GTD.ipynb",
      "provenance": [],
      "collapsed_sections": [],
      "mount_file_id": "1J4I_36c-iKYCbPBu2JxQREEp-XrI5A54",
      "authorship_tag": "ABX9TyNTdKOBuvwZIRDQQeP7pK85",
      "include_colab_link": true
    },
    "kernelspec": {
      "name": "python3",
      "display_name": "Python 3"
    }
  },
  "cells": [
    {
      "cell_type": "markdown",
      "metadata": {
        "id": "view-in-github",
        "colab_type": "text"
      },
      "source": [
        "<a href=\"https://colab.research.google.com/github/manpreethsai/GTD_GOOGLE_COLLAB/blob/master/FULL_DATA_GTD_wednesday.ipynb\" target=\"_parent\"><img src=\"https://colab.research.google.com/assets/colab-badge.svg\" alt=\"Open In Colab\"/></a>"
      ]
    },
    {
      "cell_type": "code",
      "metadata": {
        "id": "DWKPXP-B-3Fu",
        "colab_type": "code",
        "colab": {}
      },
      "source": [
        "# IMPORT BASIC LIBS"
      ],
      "execution_count": 24,
      "outputs": []
    },
    {
      "cell_type": "code",
      "metadata": {
        "id": "sHPWxhWe3bjd",
        "colab_type": "code",
        "colab": {
          "base_uri": "https://localhost:8080/",
          "height": 70
        },
        "outputId": "a2e32b2f-d1ff-4354-9aa2-ba9326a21ead"
      },
      "source": [
        "import requests\n",
        "import pandas as pd\n",
        "import numpy as np\n",
        "import matplotlib.pyplot as plt\n",
        "import seaborn as sns\n",
        "import warnings\n",
        "warnings.filterwarnings(\"ignore\")\n",
        "\n"
      ],
      "execution_count": 1,
      "outputs": [
        {
          "output_type": "stream",
          "text": [
            "/usr/local/lib/python3.6/dist-packages/statsmodels/tools/_testing.py:19: FutureWarning: pandas.util.testing is deprecated. Use the functions in the public API at pandas.testing instead.\n",
            "  import pandas.util.testing as tm\n"
          ],
          "name": "stderr"
        }
      ]
    },
    {
      "cell_type": "code",
      "metadata": {
        "id": "Vz-nYsH35DBI",
        "colab_type": "code",
        "colab": {
          "base_uri": "https://localhost:8080/",
          "height": 362
        },
        "outputId": "49cd1ce5-4bcd-466b-e4af-6dbc8a6a7d4c"
      },
      "source": [
        "df = pd.read_csv('/content/drive/My Drive/Colab Notebooks/GLOBAL_TERRORISM.zip', encoding='ISO-8859-1')\n",
        "df_ori = pd.read_csv('/content/drive/My Drive/Colab Notebooks/GLOBAL_TERRORISM.zip', encoding='ISO-8859-1')\n",
        "df.head()"
      ],
      "execution_count": 4,
      "outputs": [
        {
          "output_type": "execute_result",
          "data": {
            "text/html": [
              "<div>\n",
              "<style scoped>\n",
              "    .dataframe tbody tr th:only-of-type {\n",
              "        vertical-align: middle;\n",
              "    }\n",
              "\n",
              "    .dataframe tbody tr th {\n",
              "        vertical-align: top;\n",
              "    }\n",
              "\n",
              "    .dataframe thead th {\n",
              "        text-align: right;\n",
              "    }\n",
              "</style>\n",
              "<table border=\"1\" class=\"dataframe\">\n",
              "  <thead>\n",
              "    <tr style=\"text-align: right;\">\n",
              "      <th></th>\n",
              "      <th>eventid</th>\n",
              "      <th>iyear</th>\n",
              "      <th>imonth</th>\n",
              "      <th>iday</th>\n",
              "      <th>approxdate</th>\n",
              "      <th>extended</th>\n",
              "      <th>resolution</th>\n",
              "      <th>country</th>\n",
              "      <th>country_txt</th>\n",
              "      <th>region</th>\n",
              "      <th>region_txt</th>\n",
              "      <th>provstate</th>\n",
              "      <th>city</th>\n",
              "      <th>latitude</th>\n",
              "      <th>longitude</th>\n",
              "      <th>specificity</th>\n",
              "      <th>vicinity</th>\n",
              "      <th>location</th>\n",
              "      <th>summary</th>\n",
              "      <th>crit1</th>\n",
              "      <th>crit2</th>\n",
              "      <th>crit3</th>\n",
              "      <th>doubtterr</th>\n",
              "      <th>alternative</th>\n",
              "      <th>alternative_txt</th>\n",
              "      <th>multiple</th>\n",
              "      <th>success</th>\n",
              "      <th>suicide</th>\n",
              "      <th>attacktype1</th>\n",
              "      <th>attacktype1_txt</th>\n",
              "      <th>attacktype2</th>\n",
              "      <th>attacktype2_txt</th>\n",
              "      <th>attacktype3</th>\n",
              "      <th>attacktype3_txt</th>\n",
              "      <th>targtype1</th>\n",
              "      <th>targtype1_txt</th>\n",
              "      <th>targsubtype1</th>\n",
              "      <th>targsubtype1_txt</th>\n",
              "      <th>corp1</th>\n",
              "      <th>target1</th>\n",
              "      <th>...</th>\n",
              "      <th>weapsubtype4</th>\n",
              "      <th>weapsubtype4_txt</th>\n",
              "      <th>weapdetail</th>\n",
              "      <th>nkill</th>\n",
              "      <th>nkillus</th>\n",
              "      <th>nkillter</th>\n",
              "      <th>nwound</th>\n",
              "      <th>nwoundus</th>\n",
              "      <th>nwoundte</th>\n",
              "      <th>property</th>\n",
              "      <th>propextent</th>\n",
              "      <th>propextent_txt</th>\n",
              "      <th>propvalue</th>\n",
              "      <th>propcomment</th>\n",
              "      <th>ishostkid</th>\n",
              "      <th>nhostkid</th>\n",
              "      <th>nhostkidus</th>\n",
              "      <th>nhours</th>\n",
              "      <th>ndays</th>\n",
              "      <th>divert</th>\n",
              "      <th>kidhijcountry</th>\n",
              "      <th>ransom</th>\n",
              "      <th>ransomamt</th>\n",
              "      <th>ransomamtus</th>\n",
              "      <th>ransompaid</th>\n",
              "      <th>ransompaidus</th>\n",
              "      <th>ransomnote</th>\n",
              "      <th>hostkidoutcome</th>\n",
              "      <th>hostkidoutcome_txt</th>\n",
              "      <th>nreleased</th>\n",
              "      <th>addnotes</th>\n",
              "      <th>scite1</th>\n",
              "      <th>scite2</th>\n",
              "      <th>scite3</th>\n",
              "      <th>dbsource</th>\n",
              "      <th>INT_LOG</th>\n",
              "      <th>INT_IDEO</th>\n",
              "      <th>INT_MISC</th>\n",
              "      <th>INT_ANY</th>\n",
              "      <th>related</th>\n",
              "    </tr>\n",
              "  </thead>\n",
              "  <tbody>\n",
              "    <tr>\n",
              "      <th>0</th>\n",
              "      <td>197000000001</td>\n",
              "      <td>1970</td>\n",
              "      <td>7</td>\n",
              "      <td>2</td>\n",
              "      <td>NaN</td>\n",
              "      <td>0</td>\n",
              "      <td>NaN</td>\n",
              "      <td>58</td>\n",
              "      <td>Dominican Republic</td>\n",
              "      <td>2</td>\n",
              "      <td>Central America &amp; Caribbean</td>\n",
              "      <td>NaN</td>\n",
              "      <td>Santo Domingo</td>\n",
              "      <td>18.456792</td>\n",
              "      <td>-69.951164</td>\n",
              "      <td>1.0</td>\n",
              "      <td>0</td>\n",
              "      <td>NaN</td>\n",
              "      <td>NaN</td>\n",
              "      <td>1</td>\n",
              "      <td>1</td>\n",
              "      <td>1</td>\n",
              "      <td>0.0</td>\n",
              "      <td>NaN</td>\n",
              "      <td>NaN</td>\n",
              "      <td>0.0</td>\n",
              "      <td>1</td>\n",
              "      <td>0</td>\n",
              "      <td>1</td>\n",
              "      <td>Assassination</td>\n",
              "      <td>NaN</td>\n",
              "      <td>NaN</td>\n",
              "      <td>NaN</td>\n",
              "      <td>NaN</td>\n",
              "      <td>14</td>\n",
              "      <td>Private Citizens &amp; Property</td>\n",
              "      <td>68.0</td>\n",
              "      <td>Named Civilian</td>\n",
              "      <td>NaN</td>\n",
              "      <td>Julio Guzman</td>\n",
              "      <td>...</td>\n",
              "      <td>NaN</td>\n",
              "      <td>NaN</td>\n",
              "      <td>NaN</td>\n",
              "      <td>1.0</td>\n",
              "      <td>NaN</td>\n",
              "      <td>NaN</td>\n",
              "      <td>0.0</td>\n",
              "      <td>NaN</td>\n",
              "      <td>NaN</td>\n",
              "      <td>0</td>\n",
              "      <td>NaN</td>\n",
              "      <td>NaN</td>\n",
              "      <td>NaN</td>\n",
              "      <td>NaN</td>\n",
              "      <td>0.0</td>\n",
              "      <td>NaN</td>\n",
              "      <td>NaN</td>\n",
              "      <td>NaN</td>\n",
              "      <td>NaN</td>\n",
              "      <td>NaN</td>\n",
              "      <td>NaN</td>\n",
              "      <td>0.0</td>\n",
              "      <td>NaN</td>\n",
              "      <td>NaN</td>\n",
              "      <td>NaN</td>\n",
              "      <td>NaN</td>\n",
              "      <td>NaN</td>\n",
              "      <td>NaN</td>\n",
              "      <td>NaN</td>\n",
              "      <td>NaN</td>\n",
              "      <td>NaN</td>\n",
              "      <td>NaN</td>\n",
              "      <td>NaN</td>\n",
              "      <td>NaN</td>\n",
              "      <td>PGIS</td>\n",
              "      <td>0</td>\n",
              "      <td>0</td>\n",
              "      <td>0</td>\n",
              "      <td>0</td>\n",
              "      <td>NaN</td>\n",
              "    </tr>\n",
              "    <tr>\n",
              "      <th>1</th>\n",
              "      <td>197000000002</td>\n",
              "      <td>1970</td>\n",
              "      <td>0</td>\n",
              "      <td>0</td>\n",
              "      <td>NaN</td>\n",
              "      <td>0</td>\n",
              "      <td>NaN</td>\n",
              "      <td>130</td>\n",
              "      <td>Mexico</td>\n",
              "      <td>1</td>\n",
              "      <td>North America</td>\n",
              "      <td>Federal</td>\n",
              "      <td>Mexico city</td>\n",
              "      <td>19.371887</td>\n",
              "      <td>-99.086624</td>\n",
              "      <td>1.0</td>\n",
              "      <td>0</td>\n",
              "      <td>NaN</td>\n",
              "      <td>NaN</td>\n",
              "      <td>1</td>\n",
              "      <td>1</td>\n",
              "      <td>1</td>\n",
              "      <td>0.0</td>\n",
              "      <td>NaN</td>\n",
              "      <td>NaN</td>\n",
              "      <td>0.0</td>\n",
              "      <td>1</td>\n",
              "      <td>0</td>\n",
              "      <td>6</td>\n",
              "      <td>Hostage Taking (Kidnapping)</td>\n",
              "      <td>NaN</td>\n",
              "      <td>NaN</td>\n",
              "      <td>NaN</td>\n",
              "      <td>NaN</td>\n",
              "      <td>7</td>\n",
              "      <td>Government (Diplomatic)</td>\n",
              "      <td>45.0</td>\n",
              "      <td>Diplomatic Personnel (outside of embassy, cons...</td>\n",
              "      <td>Belgian Ambassador Daughter</td>\n",
              "      <td>Nadine Chaval, daughter</td>\n",
              "      <td>...</td>\n",
              "      <td>NaN</td>\n",
              "      <td>NaN</td>\n",
              "      <td>NaN</td>\n",
              "      <td>0.0</td>\n",
              "      <td>NaN</td>\n",
              "      <td>NaN</td>\n",
              "      <td>0.0</td>\n",
              "      <td>NaN</td>\n",
              "      <td>NaN</td>\n",
              "      <td>0</td>\n",
              "      <td>NaN</td>\n",
              "      <td>NaN</td>\n",
              "      <td>NaN</td>\n",
              "      <td>NaN</td>\n",
              "      <td>1.0</td>\n",
              "      <td>1.0</td>\n",
              "      <td>0.0</td>\n",
              "      <td>NaN</td>\n",
              "      <td>NaN</td>\n",
              "      <td>NaN</td>\n",
              "      <td>Mexico</td>\n",
              "      <td>1.0</td>\n",
              "      <td>800000.0</td>\n",
              "      <td>NaN</td>\n",
              "      <td>NaN</td>\n",
              "      <td>NaN</td>\n",
              "      <td>NaN</td>\n",
              "      <td>NaN</td>\n",
              "      <td>NaN</td>\n",
              "      <td>NaN</td>\n",
              "      <td>NaN</td>\n",
              "      <td>NaN</td>\n",
              "      <td>NaN</td>\n",
              "      <td>NaN</td>\n",
              "      <td>PGIS</td>\n",
              "      <td>0</td>\n",
              "      <td>1</td>\n",
              "      <td>1</td>\n",
              "      <td>1</td>\n",
              "      <td>NaN</td>\n",
              "    </tr>\n",
              "    <tr>\n",
              "      <th>2</th>\n",
              "      <td>197001000001</td>\n",
              "      <td>1970</td>\n",
              "      <td>1</td>\n",
              "      <td>0</td>\n",
              "      <td>NaN</td>\n",
              "      <td>0</td>\n",
              "      <td>NaN</td>\n",
              "      <td>160</td>\n",
              "      <td>Philippines</td>\n",
              "      <td>5</td>\n",
              "      <td>Southeast Asia</td>\n",
              "      <td>Tarlac</td>\n",
              "      <td>Unknown</td>\n",
              "      <td>15.478598</td>\n",
              "      <td>120.599741</td>\n",
              "      <td>4.0</td>\n",
              "      <td>0</td>\n",
              "      <td>NaN</td>\n",
              "      <td>NaN</td>\n",
              "      <td>1</td>\n",
              "      <td>1</td>\n",
              "      <td>1</td>\n",
              "      <td>0.0</td>\n",
              "      <td>NaN</td>\n",
              "      <td>NaN</td>\n",
              "      <td>0.0</td>\n",
              "      <td>1</td>\n",
              "      <td>0</td>\n",
              "      <td>1</td>\n",
              "      <td>Assassination</td>\n",
              "      <td>NaN</td>\n",
              "      <td>NaN</td>\n",
              "      <td>NaN</td>\n",
              "      <td>NaN</td>\n",
              "      <td>10</td>\n",
              "      <td>Journalists &amp; Media</td>\n",
              "      <td>54.0</td>\n",
              "      <td>Radio Journalist/Staff/Facility</td>\n",
              "      <td>Voice of America</td>\n",
              "      <td>Employee</td>\n",
              "      <td>...</td>\n",
              "      <td>NaN</td>\n",
              "      <td>NaN</td>\n",
              "      <td>NaN</td>\n",
              "      <td>1.0</td>\n",
              "      <td>NaN</td>\n",
              "      <td>NaN</td>\n",
              "      <td>0.0</td>\n",
              "      <td>NaN</td>\n",
              "      <td>NaN</td>\n",
              "      <td>0</td>\n",
              "      <td>NaN</td>\n",
              "      <td>NaN</td>\n",
              "      <td>NaN</td>\n",
              "      <td>NaN</td>\n",
              "      <td>0.0</td>\n",
              "      <td>NaN</td>\n",
              "      <td>NaN</td>\n",
              "      <td>NaN</td>\n",
              "      <td>NaN</td>\n",
              "      <td>NaN</td>\n",
              "      <td>NaN</td>\n",
              "      <td>0.0</td>\n",
              "      <td>NaN</td>\n",
              "      <td>NaN</td>\n",
              "      <td>NaN</td>\n",
              "      <td>NaN</td>\n",
              "      <td>NaN</td>\n",
              "      <td>NaN</td>\n",
              "      <td>NaN</td>\n",
              "      <td>NaN</td>\n",
              "      <td>NaN</td>\n",
              "      <td>NaN</td>\n",
              "      <td>NaN</td>\n",
              "      <td>NaN</td>\n",
              "      <td>PGIS</td>\n",
              "      <td>-9</td>\n",
              "      <td>-9</td>\n",
              "      <td>1</td>\n",
              "      <td>1</td>\n",
              "      <td>NaN</td>\n",
              "    </tr>\n",
              "    <tr>\n",
              "      <th>3</th>\n",
              "      <td>197001000002</td>\n",
              "      <td>1970</td>\n",
              "      <td>1</td>\n",
              "      <td>0</td>\n",
              "      <td>NaN</td>\n",
              "      <td>0</td>\n",
              "      <td>NaN</td>\n",
              "      <td>78</td>\n",
              "      <td>Greece</td>\n",
              "      <td>8</td>\n",
              "      <td>Western Europe</td>\n",
              "      <td>Attica</td>\n",
              "      <td>Athens</td>\n",
              "      <td>37.997490</td>\n",
              "      <td>23.762728</td>\n",
              "      <td>1.0</td>\n",
              "      <td>0</td>\n",
              "      <td>NaN</td>\n",
              "      <td>NaN</td>\n",
              "      <td>1</td>\n",
              "      <td>1</td>\n",
              "      <td>1</td>\n",
              "      <td>0.0</td>\n",
              "      <td>NaN</td>\n",
              "      <td>NaN</td>\n",
              "      <td>0.0</td>\n",
              "      <td>1</td>\n",
              "      <td>0</td>\n",
              "      <td>3</td>\n",
              "      <td>Bombing/Explosion</td>\n",
              "      <td>NaN</td>\n",
              "      <td>NaN</td>\n",
              "      <td>NaN</td>\n",
              "      <td>NaN</td>\n",
              "      <td>7</td>\n",
              "      <td>Government (Diplomatic)</td>\n",
              "      <td>46.0</td>\n",
              "      <td>Embassy/Consulate</td>\n",
              "      <td>NaN</td>\n",
              "      <td>U.S. Embassy</td>\n",
              "      <td>...</td>\n",
              "      <td>NaN</td>\n",
              "      <td>NaN</td>\n",
              "      <td>Explosive</td>\n",
              "      <td>NaN</td>\n",
              "      <td>NaN</td>\n",
              "      <td>NaN</td>\n",
              "      <td>NaN</td>\n",
              "      <td>NaN</td>\n",
              "      <td>NaN</td>\n",
              "      <td>1</td>\n",
              "      <td>NaN</td>\n",
              "      <td>NaN</td>\n",
              "      <td>NaN</td>\n",
              "      <td>NaN</td>\n",
              "      <td>0.0</td>\n",
              "      <td>NaN</td>\n",
              "      <td>NaN</td>\n",
              "      <td>NaN</td>\n",
              "      <td>NaN</td>\n",
              "      <td>NaN</td>\n",
              "      <td>NaN</td>\n",
              "      <td>0.0</td>\n",
              "      <td>NaN</td>\n",
              "      <td>NaN</td>\n",
              "      <td>NaN</td>\n",
              "      <td>NaN</td>\n",
              "      <td>NaN</td>\n",
              "      <td>NaN</td>\n",
              "      <td>NaN</td>\n",
              "      <td>NaN</td>\n",
              "      <td>NaN</td>\n",
              "      <td>NaN</td>\n",
              "      <td>NaN</td>\n",
              "      <td>NaN</td>\n",
              "      <td>PGIS</td>\n",
              "      <td>-9</td>\n",
              "      <td>-9</td>\n",
              "      <td>1</td>\n",
              "      <td>1</td>\n",
              "      <td>NaN</td>\n",
              "    </tr>\n",
              "    <tr>\n",
              "      <th>4</th>\n",
              "      <td>197001000003</td>\n",
              "      <td>1970</td>\n",
              "      <td>1</td>\n",
              "      <td>0</td>\n",
              "      <td>NaN</td>\n",
              "      <td>0</td>\n",
              "      <td>NaN</td>\n",
              "      <td>101</td>\n",
              "      <td>Japan</td>\n",
              "      <td>4</td>\n",
              "      <td>East Asia</td>\n",
              "      <td>Fukouka</td>\n",
              "      <td>Fukouka</td>\n",
              "      <td>33.580412</td>\n",
              "      <td>130.396361</td>\n",
              "      <td>1.0</td>\n",
              "      <td>0</td>\n",
              "      <td>NaN</td>\n",
              "      <td>NaN</td>\n",
              "      <td>1</td>\n",
              "      <td>1</td>\n",
              "      <td>1</td>\n",
              "      <td>-9.0</td>\n",
              "      <td>NaN</td>\n",
              "      <td>NaN</td>\n",
              "      <td>0.0</td>\n",
              "      <td>1</td>\n",
              "      <td>0</td>\n",
              "      <td>7</td>\n",
              "      <td>Facility/Infrastructure Attack</td>\n",
              "      <td>NaN</td>\n",
              "      <td>NaN</td>\n",
              "      <td>NaN</td>\n",
              "      <td>NaN</td>\n",
              "      <td>7</td>\n",
              "      <td>Government (Diplomatic)</td>\n",
              "      <td>46.0</td>\n",
              "      <td>Embassy/Consulate</td>\n",
              "      <td>NaN</td>\n",
              "      <td>U.S. Consulate</td>\n",
              "      <td>...</td>\n",
              "      <td>NaN</td>\n",
              "      <td>NaN</td>\n",
              "      <td>Incendiary</td>\n",
              "      <td>NaN</td>\n",
              "      <td>NaN</td>\n",
              "      <td>NaN</td>\n",
              "      <td>NaN</td>\n",
              "      <td>NaN</td>\n",
              "      <td>NaN</td>\n",
              "      <td>1</td>\n",
              "      <td>NaN</td>\n",
              "      <td>NaN</td>\n",
              "      <td>NaN</td>\n",
              "      <td>NaN</td>\n",
              "      <td>0.0</td>\n",
              "      <td>NaN</td>\n",
              "      <td>NaN</td>\n",
              "      <td>NaN</td>\n",
              "      <td>NaN</td>\n",
              "      <td>NaN</td>\n",
              "      <td>NaN</td>\n",
              "      <td>0.0</td>\n",
              "      <td>NaN</td>\n",
              "      <td>NaN</td>\n",
              "      <td>NaN</td>\n",
              "      <td>NaN</td>\n",
              "      <td>NaN</td>\n",
              "      <td>NaN</td>\n",
              "      <td>NaN</td>\n",
              "      <td>NaN</td>\n",
              "      <td>NaN</td>\n",
              "      <td>NaN</td>\n",
              "      <td>NaN</td>\n",
              "      <td>NaN</td>\n",
              "      <td>PGIS</td>\n",
              "      <td>-9</td>\n",
              "      <td>-9</td>\n",
              "      <td>1</td>\n",
              "      <td>1</td>\n",
              "      <td>NaN</td>\n",
              "    </tr>\n",
              "  </tbody>\n",
              "</table>\n",
              "<p>5 rows × 135 columns</p>\n",
              "</div>"
            ],
            "text/plain": [
              "        eventid  iyear  imonth  iday  ... INT_IDEO  INT_MISC INT_ANY  related\n",
              "0  197000000001   1970       7     2  ...        0         0       0      NaN\n",
              "1  197000000002   1970       0     0  ...        1         1       1      NaN\n",
              "2  197001000001   1970       1     0  ...       -9         1       1      NaN\n",
              "3  197001000002   1970       1     0  ...       -9         1       1      NaN\n",
              "4  197001000003   1970       1     0  ...       -9         1       1      NaN\n",
              "\n",
              "[5 rows x 135 columns]"
            ]
          },
          "metadata": {
            "tags": []
          },
          "execution_count": 4
        }
      ]
    },
    {
      "cell_type": "code",
      "metadata": {
        "id": "r3y4daO948jJ",
        "colab_type": "code",
        "colab": {}
      },
      "source": [
        "map_cols = {\n",
        "'eventid' : 'GTD_ID ',\n",
        "'iyear' : 'YEAR',\n",
        "'imonth' : 'MONTH', \n",
        "'iday' : 'DAY',\n",
        "'extended' : 'EXTENDED_INCIDENT',  \n",
        "'summary' : 'INCIDENT_SUMMARY',\n",
        "'crit1' : 'INCLUSION_CRITERIA_1',\n",
        "'crit2' : 'INCLUSION_CRITERIA_2', \n",
        "'crit3' : 'INCLUSION_CRITERIA_3',\n",
        "'multiple' : 'PART_OF_MULTIPLE_INCIDENT',  \n",
        "'related' : 'RELATED_INCIDENTS',  \n",
        "'country' : 'COUNTRY_CODE',\n",
        "'country_txt' : 'COUNTRY_TXT',  \n",
        "'region' : 'REGION_CODE',\n",
        "'region_txt' : 'REGION_TXT',  \n",
        "'city' : 'CITY_NAME',  \n",
        "'latitude' : 'LATITUDE',  \n",
        "'longitude' : 'LONGITUDE',  \n",
        "'specificity' : 'GEOCODING_SPECIFICITY',  \n",
        "'attacktype1' : 'ATTACK_TYPE_CODE',\n",
        "'attacktype1_txt' : 'ATTACK_TYPE_TXT',  \n",
        "'success' : 'SUCCESSFUL_ATTACK', \n",
        "'suicide' : 'SUICIDE_ATTACK',  \n",
        "'weaptype1' : 'WEAPON_TYPE_CODE',\n",
        "'weaptype1_txt' : 'WEAPON_TYPE_TXT',  \n",
        "'targtype1' : 'VICTIM_TYPE_CODE',\n",
        "'targtype1_txt' : 'VICTIM_TYPE_TXT',  \n",
        "'corp1' : 'NAME_OF_ENTITY',  \n",
        "'natlty1' : 'NATIONALITY_OF_VICTIM_CODE',\n",
        "'natlty1_txt' : 'NATIONALITY_OF_VICTIM_TXT',  \n",
        "'individual' : 'UNAFFLIATED INDIVIDUALS',  \n",
        "'gname' : 'PREPETRATOR GROUP NAME',  \n",
        "'nperps' : 'NUMBER OF PREPETRATORS',  \n",
        "'nperpcap' : 'NUMBER OF PREPETRATORS CAPTURED',\n",
        "'claimed' : 'CLAIM OF RESPONSIBILTY',  \n",
        "'motive' : 'MOTIVE',  \n",
        "'nkill' : 'TOTAL FATALITIES',  \n",
        "'nkillter' : 'PREPETRATOR FATALITIES',  \n",
        "'nwound' : 'TOTAL INJURED',  \n",
        "'nwoundte' : 'PREPETRATORS INJURED',  \n",
        "'property' : 'PROPERTY DAMAGE',  \n",
        "'propvalue' : 'VALUE OF PROPERTY DAMAGE in usd',  \n",
        "'nhostkid' : 'TOTAL NO. OF HOSTAGES / VICTIM KIDNAPS',  \n",
        "'ransomamt' : 'TOTAL RANSOM AMOUNT DEMANDED',  \n",
        "'ransompaid' : 'TOTAL RANSOM AMOUNT PAID',  \n",
        "'INT_IDEO' : 'INTERNATIONAL_IDELOGICAL', \n",
        "'doubtterr' : 'DOUBT TERRORISM PROPER',\n",
        "'alternative_txt' : 'ALTERNATIVE CRIME'\n",
        "}\n",
        "\n",
        "    \n"
      ],
      "execution_count": 5,
      "outputs": []
    },
    {
      "cell_type": "code",
      "metadata": {
        "id": "HEqkwcR058uP",
        "colab_type": "code",
        "colab": {
          "base_uri": "https://localhost:8080/",
          "height": 350
        },
        "outputId": "ffb6cde3-b749-4ba4-e899-80aad73d16df"
      },
      "source": [
        "df_cut = df[map_cols.keys()]\n",
        "df_cut.head()"
      ],
      "execution_count": 6,
      "outputs": [
        {
          "output_type": "execute_result",
          "data": {
            "text/html": [
              "<div>\n",
              "<style scoped>\n",
              "    .dataframe tbody tr th:only-of-type {\n",
              "        vertical-align: middle;\n",
              "    }\n",
              "\n",
              "    .dataframe tbody tr th {\n",
              "        vertical-align: top;\n",
              "    }\n",
              "\n",
              "    .dataframe thead th {\n",
              "        text-align: right;\n",
              "    }\n",
              "</style>\n",
              "<table border=\"1\" class=\"dataframe\">\n",
              "  <thead>\n",
              "    <tr style=\"text-align: right;\">\n",
              "      <th></th>\n",
              "      <th>eventid</th>\n",
              "      <th>iyear</th>\n",
              "      <th>imonth</th>\n",
              "      <th>iday</th>\n",
              "      <th>extended</th>\n",
              "      <th>summary</th>\n",
              "      <th>crit1</th>\n",
              "      <th>crit2</th>\n",
              "      <th>crit3</th>\n",
              "      <th>multiple</th>\n",
              "      <th>related</th>\n",
              "      <th>country</th>\n",
              "      <th>country_txt</th>\n",
              "      <th>region</th>\n",
              "      <th>region_txt</th>\n",
              "      <th>city</th>\n",
              "      <th>latitude</th>\n",
              "      <th>longitude</th>\n",
              "      <th>specificity</th>\n",
              "      <th>attacktype1</th>\n",
              "      <th>attacktype1_txt</th>\n",
              "      <th>success</th>\n",
              "      <th>suicide</th>\n",
              "      <th>weaptype1</th>\n",
              "      <th>weaptype1_txt</th>\n",
              "      <th>targtype1</th>\n",
              "      <th>targtype1_txt</th>\n",
              "      <th>corp1</th>\n",
              "      <th>natlty1</th>\n",
              "      <th>natlty1_txt</th>\n",
              "      <th>individual</th>\n",
              "      <th>gname</th>\n",
              "      <th>nperps</th>\n",
              "      <th>nperpcap</th>\n",
              "      <th>claimed</th>\n",
              "      <th>motive</th>\n",
              "      <th>nkill</th>\n",
              "      <th>nkillter</th>\n",
              "      <th>nwound</th>\n",
              "      <th>nwoundte</th>\n",
              "      <th>property</th>\n",
              "      <th>propvalue</th>\n",
              "      <th>nhostkid</th>\n",
              "      <th>ransomamt</th>\n",
              "      <th>ransompaid</th>\n",
              "      <th>INT_IDEO</th>\n",
              "      <th>doubtterr</th>\n",
              "      <th>alternative_txt</th>\n",
              "    </tr>\n",
              "  </thead>\n",
              "  <tbody>\n",
              "    <tr>\n",
              "      <th>0</th>\n",
              "      <td>197000000001</td>\n",
              "      <td>1970</td>\n",
              "      <td>7</td>\n",
              "      <td>2</td>\n",
              "      <td>0</td>\n",
              "      <td>NaN</td>\n",
              "      <td>1</td>\n",
              "      <td>1</td>\n",
              "      <td>1</td>\n",
              "      <td>0.0</td>\n",
              "      <td>NaN</td>\n",
              "      <td>58</td>\n",
              "      <td>Dominican Republic</td>\n",
              "      <td>2</td>\n",
              "      <td>Central America &amp; Caribbean</td>\n",
              "      <td>Santo Domingo</td>\n",
              "      <td>18.456792</td>\n",
              "      <td>-69.951164</td>\n",
              "      <td>1.0</td>\n",
              "      <td>1</td>\n",
              "      <td>Assassination</td>\n",
              "      <td>1</td>\n",
              "      <td>0</td>\n",
              "      <td>13</td>\n",
              "      <td>Unknown</td>\n",
              "      <td>14</td>\n",
              "      <td>Private Citizens &amp; Property</td>\n",
              "      <td>NaN</td>\n",
              "      <td>58.0</td>\n",
              "      <td>Dominican Republic</td>\n",
              "      <td>0</td>\n",
              "      <td>MANO-D</td>\n",
              "      <td>NaN</td>\n",
              "      <td>NaN</td>\n",
              "      <td>NaN</td>\n",
              "      <td>NaN</td>\n",
              "      <td>1.0</td>\n",
              "      <td>NaN</td>\n",
              "      <td>0.0</td>\n",
              "      <td>NaN</td>\n",
              "      <td>0</td>\n",
              "      <td>NaN</td>\n",
              "      <td>NaN</td>\n",
              "      <td>NaN</td>\n",
              "      <td>NaN</td>\n",
              "      <td>0</td>\n",
              "      <td>0.0</td>\n",
              "      <td>NaN</td>\n",
              "    </tr>\n",
              "    <tr>\n",
              "      <th>1</th>\n",
              "      <td>197000000002</td>\n",
              "      <td>1970</td>\n",
              "      <td>0</td>\n",
              "      <td>0</td>\n",
              "      <td>0</td>\n",
              "      <td>NaN</td>\n",
              "      <td>1</td>\n",
              "      <td>1</td>\n",
              "      <td>1</td>\n",
              "      <td>0.0</td>\n",
              "      <td>NaN</td>\n",
              "      <td>130</td>\n",
              "      <td>Mexico</td>\n",
              "      <td>1</td>\n",
              "      <td>North America</td>\n",
              "      <td>Mexico city</td>\n",
              "      <td>19.371887</td>\n",
              "      <td>-99.086624</td>\n",
              "      <td>1.0</td>\n",
              "      <td>6</td>\n",
              "      <td>Hostage Taking (Kidnapping)</td>\n",
              "      <td>1</td>\n",
              "      <td>0</td>\n",
              "      <td>13</td>\n",
              "      <td>Unknown</td>\n",
              "      <td>7</td>\n",
              "      <td>Government (Diplomatic)</td>\n",
              "      <td>Belgian Ambassador Daughter</td>\n",
              "      <td>21.0</td>\n",
              "      <td>Belgium</td>\n",
              "      <td>0</td>\n",
              "      <td>23rd of September Communist League</td>\n",
              "      <td>7.0</td>\n",
              "      <td>NaN</td>\n",
              "      <td>NaN</td>\n",
              "      <td>NaN</td>\n",
              "      <td>0.0</td>\n",
              "      <td>NaN</td>\n",
              "      <td>0.0</td>\n",
              "      <td>NaN</td>\n",
              "      <td>0</td>\n",
              "      <td>NaN</td>\n",
              "      <td>1.0</td>\n",
              "      <td>800000.0</td>\n",
              "      <td>NaN</td>\n",
              "      <td>1</td>\n",
              "      <td>0.0</td>\n",
              "      <td>NaN</td>\n",
              "    </tr>\n",
              "    <tr>\n",
              "      <th>2</th>\n",
              "      <td>197001000001</td>\n",
              "      <td>1970</td>\n",
              "      <td>1</td>\n",
              "      <td>0</td>\n",
              "      <td>0</td>\n",
              "      <td>NaN</td>\n",
              "      <td>1</td>\n",
              "      <td>1</td>\n",
              "      <td>1</td>\n",
              "      <td>0.0</td>\n",
              "      <td>NaN</td>\n",
              "      <td>160</td>\n",
              "      <td>Philippines</td>\n",
              "      <td>5</td>\n",
              "      <td>Southeast Asia</td>\n",
              "      <td>Unknown</td>\n",
              "      <td>15.478598</td>\n",
              "      <td>120.599741</td>\n",
              "      <td>4.0</td>\n",
              "      <td>1</td>\n",
              "      <td>Assassination</td>\n",
              "      <td>1</td>\n",
              "      <td>0</td>\n",
              "      <td>13</td>\n",
              "      <td>Unknown</td>\n",
              "      <td>10</td>\n",
              "      <td>Journalists &amp; Media</td>\n",
              "      <td>Voice of America</td>\n",
              "      <td>217.0</td>\n",
              "      <td>United States</td>\n",
              "      <td>0</td>\n",
              "      <td>Unknown</td>\n",
              "      <td>NaN</td>\n",
              "      <td>NaN</td>\n",
              "      <td>NaN</td>\n",
              "      <td>NaN</td>\n",
              "      <td>1.0</td>\n",
              "      <td>NaN</td>\n",
              "      <td>0.0</td>\n",
              "      <td>NaN</td>\n",
              "      <td>0</td>\n",
              "      <td>NaN</td>\n",
              "      <td>NaN</td>\n",
              "      <td>NaN</td>\n",
              "      <td>NaN</td>\n",
              "      <td>-9</td>\n",
              "      <td>0.0</td>\n",
              "      <td>NaN</td>\n",
              "    </tr>\n",
              "    <tr>\n",
              "      <th>3</th>\n",
              "      <td>197001000002</td>\n",
              "      <td>1970</td>\n",
              "      <td>1</td>\n",
              "      <td>0</td>\n",
              "      <td>0</td>\n",
              "      <td>NaN</td>\n",
              "      <td>1</td>\n",
              "      <td>1</td>\n",
              "      <td>1</td>\n",
              "      <td>0.0</td>\n",
              "      <td>NaN</td>\n",
              "      <td>78</td>\n",
              "      <td>Greece</td>\n",
              "      <td>8</td>\n",
              "      <td>Western Europe</td>\n",
              "      <td>Athens</td>\n",
              "      <td>37.997490</td>\n",
              "      <td>23.762728</td>\n",
              "      <td>1.0</td>\n",
              "      <td>3</td>\n",
              "      <td>Bombing/Explosion</td>\n",
              "      <td>1</td>\n",
              "      <td>0</td>\n",
              "      <td>6</td>\n",
              "      <td>Explosives</td>\n",
              "      <td>7</td>\n",
              "      <td>Government (Diplomatic)</td>\n",
              "      <td>NaN</td>\n",
              "      <td>217.0</td>\n",
              "      <td>United States</td>\n",
              "      <td>0</td>\n",
              "      <td>Unknown</td>\n",
              "      <td>NaN</td>\n",
              "      <td>NaN</td>\n",
              "      <td>NaN</td>\n",
              "      <td>NaN</td>\n",
              "      <td>NaN</td>\n",
              "      <td>NaN</td>\n",
              "      <td>NaN</td>\n",
              "      <td>NaN</td>\n",
              "      <td>1</td>\n",
              "      <td>NaN</td>\n",
              "      <td>NaN</td>\n",
              "      <td>NaN</td>\n",
              "      <td>NaN</td>\n",
              "      <td>-9</td>\n",
              "      <td>0.0</td>\n",
              "      <td>NaN</td>\n",
              "    </tr>\n",
              "    <tr>\n",
              "      <th>4</th>\n",
              "      <td>197001000003</td>\n",
              "      <td>1970</td>\n",
              "      <td>1</td>\n",
              "      <td>0</td>\n",
              "      <td>0</td>\n",
              "      <td>NaN</td>\n",
              "      <td>1</td>\n",
              "      <td>1</td>\n",
              "      <td>1</td>\n",
              "      <td>0.0</td>\n",
              "      <td>NaN</td>\n",
              "      <td>101</td>\n",
              "      <td>Japan</td>\n",
              "      <td>4</td>\n",
              "      <td>East Asia</td>\n",
              "      <td>Fukouka</td>\n",
              "      <td>33.580412</td>\n",
              "      <td>130.396361</td>\n",
              "      <td>1.0</td>\n",
              "      <td>7</td>\n",
              "      <td>Facility/Infrastructure Attack</td>\n",
              "      <td>1</td>\n",
              "      <td>0</td>\n",
              "      <td>8</td>\n",
              "      <td>Incendiary</td>\n",
              "      <td>7</td>\n",
              "      <td>Government (Diplomatic)</td>\n",
              "      <td>NaN</td>\n",
              "      <td>217.0</td>\n",
              "      <td>United States</td>\n",
              "      <td>0</td>\n",
              "      <td>Unknown</td>\n",
              "      <td>NaN</td>\n",
              "      <td>NaN</td>\n",
              "      <td>NaN</td>\n",
              "      <td>NaN</td>\n",
              "      <td>NaN</td>\n",
              "      <td>NaN</td>\n",
              "      <td>NaN</td>\n",
              "      <td>NaN</td>\n",
              "      <td>1</td>\n",
              "      <td>NaN</td>\n",
              "      <td>NaN</td>\n",
              "      <td>NaN</td>\n",
              "      <td>NaN</td>\n",
              "      <td>-9</td>\n",
              "      <td>-9.0</td>\n",
              "      <td>NaN</td>\n",
              "    </tr>\n",
              "  </tbody>\n",
              "</table>\n",
              "</div>"
            ],
            "text/plain": [
              "        eventid  iyear  imonth  ...  INT_IDEO  doubtterr alternative_txt\n",
              "0  197000000001   1970       7  ...         0        0.0             NaN\n",
              "1  197000000002   1970       0  ...         1        0.0             NaN\n",
              "2  197001000001   1970       1  ...        -9        0.0             NaN\n",
              "3  197001000002   1970       1  ...        -9        0.0             NaN\n",
              "4  197001000003   1970       1  ...        -9       -9.0             NaN\n",
              "\n",
              "[5 rows x 48 columns]"
            ]
          },
          "metadata": {
            "tags": []
          },
          "execution_count": 6
        }
      ]
    },
    {
      "cell_type": "code",
      "metadata": {
        "id": "z4w5h08F6Dk5",
        "colab_type": "code",
        "colab": {
          "base_uri": "https://localhost:8080/",
          "height": 941
        },
        "outputId": "0dd01c91-48a8-48c9-f8cd-711184a46087"
      },
      "source": [
        "df_cut.info(verbose=True)"
      ],
      "execution_count": 7,
      "outputs": [
        {
          "output_type": "stream",
          "text": [
            "<class 'pandas.core.frame.DataFrame'>\n",
            "RangeIndex: 181691 entries, 0 to 181690\n",
            "Data columns (total 48 columns):\n",
            " #   Column           Non-Null Count   Dtype  \n",
            "---  ------           --------------   -----  \n",
            " 0   eventid          181691 non-null  int64  \n",
            " 1   iyear            181691 non-null  int64  \n",
            " 2   imonth           181691 non-null  int64  \n",
            " 3   iday             181691 non-null  int64  \n",
            " 4   extended         181691 non-null  int64  \n",
            " 5   summary          115562 non-null  object \n",
            " 6   crit1            181691 non-null  int64  \n",
            " 7   crit2            181691 non-null  int64  \n",
            " 8   crit3            181691 non-null  int64  \n",
            " 9   multiple         181690 non-null  float64\n",
            " 10  related          25038 non-null   object \n",
            " 11  country          181691 non-null  int64  \n",
            " 12  country_txt      181691 non-null  object \n",
            " 13  region           181691 non-null  int64  \n",
            " 14  region_txt       181691 non-null  object \n",
            " 15  city             181257 non-null  object \n",
            " 16  latitude         177135 non-null  float64\n",
            " 17  longitude        177134 non-null  float64\n",
            " 18  specificity      181685 non-null  float64\n",
            " 19  attacktype1      181691 non-null  int64  \n",
            " 20  attacktype1_txt  181691 non-null  object \n",
            " 21  success          181691 non-null  int64  \n",
            " 22  suicide          181691 non-null  int64  \n",
            " 23  weaptype1        181691 non-null  int64  \n",
            " 24  weaptype1_txt    181691 non-null  object \n",
            " 25  targtype1        181691 non-null  int64  \n",
            " 26  targtype1_txt    181691 non-null  object \n",
            " 27  corp1            139141 non-null  object \n",
            " 28  natlty1          180132 non-null  float64\n",
            " 29  natlty1_txt      180132 non-null  object \n",
            " 30  individual       181691 non-null  int64  \n",
            " 31  gname            181691 non-null  object \n",
            " 32  nperps           110576 non-null  float64\n",
            " 33  nperpcap         112202 non-null  float64\n",
            " 34  claimed          115571 non-null  float64\n",
            " 35  motive           50561 non-null   object \n",
            " 36  nkill            171378 non-null  float64\n",
            " 37  nkillter         114733 non-null  float64\n",
            " 38  nwound           165380 non-null  float64\n",
            " 39  nwoundte         112548 non-null  float64\n",
            " 40  property         181691 non-null  int64  \n",
            " 41  propvalue        38989 non-null   float64\n",
            " 42  nhostkid         13572 non-null   float64\n",
            " 43  ransomamt        1350 non-null    float64\n",
            " 44  ransompaid       774 non-null     float64\n",
            " 45  INT_IDEO         181691 non-null  int64  \n",
            " 46  doubtterr        181690 non-null  float64\n",
            " 47  alternative_txt  29011 non-null   object \n",
            "dtypes: float64(17), int64(18), object(13)\n",
            "memory usage: 66.5+ MB\n"
          ],
          "name": "stdout"
        }
      ]
    },
    {
      "cell_type": "code",
      "metadata": {
        "id": "_2F0HryW6LWy",
        "colab_type": "code",
        "colab": {
          "base_uri": "https://localhost:8080/",
          "height": 218
        },
        "outputId": "8cb39054-a6d1-47c9-dcee-c4ae5cb78de5"
      },
      "source": [
        "df_cut['corp1']"
      ],
      "execution_count": 8,
      "outputs": [
        {
          "output_type": "execute_result",
          "data": {
            "text/plain": [
              "0                                 NaN\n",
              "1         Belgian Ambassador Daughter\n",
              "2                    Voice of America\n",
              "3                                 NaN\n",
              "4                                 NaN\n",
              "                     ...             \n",
              "181686     Somali National Army (SNA)\n",
              "181687              Russian Air Force\n",
              "181688                 Not Applicable\n",
              "181689      Forest Department Manipur\n",
              "181690                        Unknown\n",
              "Name: corp1, Length: 181691, dtype: object"
            ]
          },
          "metadata": {
            "tags": []
          },
          "execution_count": 8
        }
      ]
    },
    {
      "cell_type": "code",
      "metadata": {
        "id": "oQyk-P_M6bVD",
        "colab_type": "code",
        "colab": {
          "base_uri": "https://localhost:8080/",
          "height": 34
        },
        "outputId": "2dce630d-8e1c-40c2-8c83-4cda129b30a7"
      },
      "source": [
        "df_cut['gname'].nunique()"
      ],
      "execution_count": 11,
      "outputs": [
        {
          "output_type": "execute_result",
          "data": {
            "text/plain": [
              "3537"
            ]
          },
          "metadata": {
            "tags": []
          },
          "execution_count": 11
        }
      ]
    },
    {
      "cell_type": "code",
      "metadata": {
        "id": "RQ9x1EET6zHh",
        "colab_type": "code",
        "colab": {
          "base_uri": "https://localhost:8080/",
          "height": 34
        },
        "outputId": "2fc1ea73-2a33-4fe0-977f-0be556a1ec82"
      },
      "source": [
        "df_cut.drop(columns=['summary', 'motive', 'corp1'], inplace=True)\n",
        "df_cut.shape"
      ],
      "execution_count": 14,
      "outputs": [
        {
          "output_type": "execute_result",
          "data": {
            "text/plain": [
              "(181691, 45)"
            ]
          },
          "metadata": {
            "tags": []
          },
          "execution_count": 14
        }
      ]
    },
    {
      "cell_type": "code",
      "metadata": {
        "id": "_6KMY9Q47zwB",
        "colab_type": "code",
        "colab": {
          "base_uri": "https://localhost:8080/",
          "height": 168
        },
        "outputId": "4d2bbb92-c8db-4418-a98e-c8803822ce62"
      },
      "source": [
        "df_cut.columns"
      ],
      "execution_count": 119,
      "outputs": [
        {
          "output_type": "execute_result",
          "data": {
            "text/plain": [
              "Index(['eventid', 'iyear', 'imonth', 'iday', 'extended', 'crit1', 'crit2',\n",
              "       'crit3', 'multiple', 'related', 'country', 'country_txt', 'region',\n",
              "       'region_txt', 'city', 'latitude', 'longitude', 'specificity',\n",
              "       'attacktype1', 'attacktype1_txt', 'success', 'suicide', 'weaptype1',\n",
              "       'weaptype1_txt', 'targtype1', 'targtype1_txt', 'natlty1', 'natlty1_txt',\n",
              "       'individual', 'gname', 'nperps', 'nperpcap', 'claimed', 'nkill',\n",
              "       'nkillter', 'nwound', 'nwoundte', 'property', 'propvalue', 'nhostkid',\n",
              "       'ransomamt', 'ransompaid', 'INT_IDEO', 'doubtterr', 'alternative_txt'],\n",
              "      dtype='object')"
            ]
          },
          "metadata": {
            "tags": []
          },
          "execution_count": 119
        }
      ]
    },
    {
      "cell_type": "code",
      "metadata": {
        "id": "cyk0ViG37YqN",
        "colab_type": "code",
        "colab": {}
      },
      "source": [
        "cat_cols = ['eventid', 'iyear', 'imonth', 'iday', 'extended', 'related', 'crit1', 'crit2', 'crit3', 'multiple', 'country', 'country_txt', 'region',\n",
        "       'region_txt', 'city', 'specificity',\n",
        "       'attacktype1', 'attacktype1_txt', 'success', 'suicide', 'weaptype1',\n",
        "       'weaptype1_txt', 'targtype1', 'targtype1_txt', 'natlty1',\n",
        "       'natlty1_txt', 'individual', 'gname', 'claimed', 'property', 'INT_IDEO', 'doubtterr', 'alternative_txt' ]"
      ],
      "execution_count": 120,
      "outputs": []
    },
    {
      "cell_type": "code",
      "metadata": {
        "id": "6CJq7fTQ8flQ",
        "colab_type": "code",
        "colab": {
          "base_uri": "https://localhost:8080/",
          "height": 218
        },
        "outputId": "18898158-1e21-4014-dfdb-7b99868bd244"
      },
      "source": [
        "num_cols = [each for each in df_cut.columns if each not in cat_cols]\n",
        "num_cols"
      ],
      "execution_count": 121,
      "outputs": [
        {
          "output_type": "execute_result",
          "data": {
            "text/plain": [
              "['latitude',\n",
              " 'longitude',\n",
              " 'nperps',\n",
              " 'nperpcap',\n",
              " 'nkill',\n",
              " 'nkillter',\n",
              " 'nwound',\n",
              " 'nwoundte',\n",
              " 'propvalue',\n",
              " 'nhostkid',\n",
              " 'ransomamt',\n",
              " 'ransompaid']"
            ]
          },
          "metadata": {
            "tags": []
          },
          "execution_count": 121
        }
      ]
    },
    {
      "cell_type": "code",
      "metadata": {
        "id": "M-g5NXlu86pB",
        "colab_type": "code",
        "colab": {
          "base_uri": "https://localhost:8080/",
          "height": 34
        },
        "outputId": "3c560202-9b5c-4b0c-fcfa-db91b1f543ad"
      },
      "source": [
        "len(cat_cols)+len(num_cols)"
      ],
      "execution_count": 125,
      "outputs": [
        {
          "output_type": "execute_result",
          "data": {
            "text/plain": [
              "45"
            ]
          },
          "metadata": {
            "tags": []
          },
          "execution_count": 125
        }
      ]
    },
    {
      "cell_type": "code",
      "metadata": {
        "id": "XoF_z1bH_JUx",
        "colab_type": "code",
        "colab": {}
      },
      "source": [
        "td = pd.DataFrame({})"
      ],
      "execution_count": 113,
      "outputs": []
    },
    {
      "cell_type": "code",
      "metadata": {
        "id": "QxRbKCzM-dbF",
        "colab_type": "code",
        "colab": {
          "base_uri": "https://localhost:8080/",
          "height": 350
        },
        "outputId": "9b7a8a2f-d6e9-4cf5-8715-bac02014bd36"
      },
      "source": [
        "for each in cat_cols:\n",
        "  td[each] = df_cut[each].astype('category')\n",
        "\n",
        "td.head()"
      ],
      "execution_count": 269,
      "outputs": [
        {
          "output_type": "execute_result",
          "data": {
            "text/html": [
              "<div>\n",
              "<style scoped>\n",
              "    .dataframe tbody tr th:only-of-type {\n",
              "        vertical-align: middle;\n",
              "    }\n",
              "\n",
              "    .dataframe tbody tr th {\n",
              "        vertical-align: top;\n",
              "    }\n",
              "\n",
              "    .dataframe thead th {\n",
              "        text-align: right;\n",
              "    }\n",
              "</style>\n",
              "<table border=\"1\" class=\"dataframe\">\n",
              "  <thead>\n",
              "    <tr style=\"text-align: right;\">\n",
              "      <th></th>\n",
              "      <th>eventid</th>\n",
              "      <th>iyear</th>\n",
              "      <th>imonth</th>\n",
              "      <th>iday</th>\n",
              "      <th>extended</th>\n",
              "      <th>crit1</th>\n",
              "      <th>crit2</th>\n",
              "      <th>crit3</th>\n",
              "      <th>multiple</th>\n",
              "      <th>country</th>\n",
              "      <th>country_txt</th>\n",
              "      <th>region</th>\n",
              "      <th>region_txt</th>\n",
              "      <th>city</th>\n",
              "      <th>specificity</th>\n",
              "      <th>attacktype1</th>\n",
              "      <th>attacktype1_txt</th>\n",
              "      <th>success</th>\n",
              "      <th>suicide</th>\n",
              "      <th>weaptype1</th>\n",
              "      <th>weaptype1_txt</th>\n",
              "      <th>targtype1</th>\n",
              "      <th>targtype1_txt</th>\n",
              "      <th>natlty1</th>\n",
              "      <th>natlty1_txt</th>\n",
              "      <th>individual</th>\n",
              "      <th>gname</th>\n",
              "      <th>claimed</th>\n",
              "      <th>property</th>\n",
              "      <th>INT_IDEO</th>\n",
              "      <th>doubtterr</th>\n",
              "      <th>alternative_txt</th>\n",
              "      <th>related</th>\n",
              "      <th>latitude</th>\n",
              "      <th>longitude</th>\n",
              "      <th>nperps</th>\n",
              "      <th>nperpcap</th>\n",
              "      <th>nkill</th>\n",
              "      <th>nkillter</th>\n",
              "      <th>nwound</th>\n",
              "      <th>nwoundte</th>\n",
              "      <th>propvalue</th>\n",
              "      <th>nhostkid</th>\n",
              "      <th>ransomamt</th>\n",
              "      <th>ransompaid</th>\n",
              "      <th>related_count</th>\n",
              "    </tr>\n",
              "  </thead>\n",
              "  <tbody>\n",
              "    <tr>\n",
              "      <th>0</th>\n",
              "      <td>197000000001</td>\n",
              "      <td>1970</td>\n",
              "      <td>7</td>\n",
              "      <td>2</td>\n",
              "      <td>0</td>\n",
              "      <td>1</td>\n",
              "      <td>1</td>\n",
              "      <td>1</td>\n",
              "      <td>0.0</td>\n",
              "      <td>58</td>\n",
              "      <td>Dominican Republic</td>\n",
              "      <td>2</td>\n",
              "      <td>Central America &amp; Caribbean</td>\n",
              "      <td>Santo Domingo</td>\n",
              "      <td>1.0</td>\n",
              "      <td>1</td>\n",
              "      <td>Assassination</td>\n",
              "      <td>1</td>\n",
              "      <td>0</td>\n",
              "      <td>13</td>\n",
              "      <td>Unknown</td>\n",
              "      <td>14</td>\n",
              "      <td>Private Citizens &amp; Property</td>\n",
              "      <td>58.0</td>\n",
              "      <td>Dominican Republic</td>\n",
              "      <td>0</td>\n",
              "      <td>MANO-D</td>\n",
              "      <td>NaN</td>\n",
              "      <td>0</td>\n",
              "      <td>0</td>\n",
              "      <td>0.0</td>\n",
              "      <td>NaN</td>\n",
              "      <td>NaN</td>\n",
              "      <td>18.456792</td>\n",
              "      <td>-69.951164</td>\n",
              "      <td>NaN</td>\n",
              "      <td>NaN</td>\n",
              "      <td>1.0</td>\n",
              "      <td>NaN</td>\n",
              "      <td>0.0</td>\n",
              "      <td>NaN</td>\n",
              "      <td>NaN</td>\n",
              "      <td>NaN</td>\n",
              "      <td>NaN</td>\n",
              "      <td>NaN</td>\n",
              "      <td>0</td>\n",
              "    </tr>\n",
              "    <tr>\n",
              "      <th>1</th>\n",
              "      <td>197000000002</td>\n",
              "      <td>1970</td>\n",
              "      <td>0</td>\n",
              "      <td>0</td>\n",
              "      <td>0</td>\n",
              "      <td>1</td>\n",
              "      <td>1</td>\n",
              "      <td>1</td>\n",
              "      <td>0.0</td>\n",
              "      <td>130</td>\n",
              "      <td>Mexico</td>\n",
              "      <td>1</td>\n",
              "      <td>North America</td>\n",
              "      <td>Mexico city</td>\n",
              "      <td>1.0</td>\n",
              "      <td>6</td>\n",
              "      <td>Hostage Taking (Kidnapping)</td>\n",
              "      <td>1</td>\n",
              "      <td>0</td>\n",
              "      <td>13</td>\n",
              "      <td>Unknown</td>\n",
              "      <td>7</td>\n",
              "      <td>Government (Diplomatic)</td>\n",
              "      <td>21.0</td>\n",
              "      <td>Belgium</td>\n",
              "      <td>0</td>\n",
              "      <td>23rd of September Communist League</td>\n",
              "      <td>NaN</td>\n",
              "      <td>0</td>\n",
              "      <td>1</td>\n",
              "      <td>0.0</td>\n",
              "      <td>NaN</td>\n",
              "      <td>NaN</td>\n",
              "      <td>19.371887</td>\n",
              "      <td>-99.086624</td>\n",
              "      <td>7.0</td>\n",
              "      <td>NaN</td>\n",
              "      <td>0.0</td>\n",
              "      <td>NaN</td>\n",
              "      <td>0.0</td>\n",
              "      <td>NaN</td>\n",
              "      <td>NaN</td>\n",
              "      <td>1.0</td>\n",
              "      <td>800000.0</td>\n",
              "      <td>NaN</td>\n",
              "      <td>0</td>\n",
              "    </tr>\n",
              "    <tr>\n",
              "      <th>2</th>\n",
              "      <td>197001000001</td>\n",
              "      <td>1970</td>\n",
              "      <td>1</td>\n",
              "      <td>0</td>\n",
              "      <td>0</td>\n",
              "      <td>1</td>\n",
              "      <td>1</td>\n",
              "      <td>1</td>\n",
              "      <td>0.0</td>\n",
              "      <td>160</td>\n",
              "      <td>Philippines</td>\n",
              "      <td>5</td>\n",
              "      <td>Southeast Asia</td>\n",
              "      <td>Unknown</td>\n",
              "      <td>4.0</td>\n",
              "      <td>1</td>\n",
              "      <td>Assassination</td>\n",
              "      <td>1</td>\n",
              "      <td>0</td>\n",
              "      <td>13</td>\n",
              "      <td>Unknown</td>\n",
              "      <td>10</td>\n",
              "      <td>Journalists &amp; Media</td>\n",
              "      <td>217.0</td>\n",
              "      <td>United States</td>\n",
              "      <td>0</td>\n",
              "      <td>Unknown</td>\n",
              "      <td>NaN</td>\n",
              "      <td>0</td>\n",
              "      <td>-9</td>\n",
              "      <td>0.0</td>\n",
              "      <td>NaN</td>\n",
              "      <td>NaN</td>\n",
              "      <td>15.478598</td>\n",
              "      <td>120.599741</td>\n",
              "      <td>NaN</td>\n",
              "      <td>NaN</td>\n",
              "      <td>1.0</td>\n",
              "      <td>NaN</td>\n",
              "      <td>0.0</td>\n",
              "      <td>NaN</td>\n",
              "      <td>NaN</td>\n",
              "      <td>NaN</td>\n",
              "      <td>NaN</td>\n",
              "      <td>NaN</td>\n",
              "      <td>0</td>\n",
              "    </tr>\n",
              "    <tr>\n",
              "      <th>3</th>\n",
              "      <td>197001000002</td>\n",
              "      <td>1970</td>\n",
              "      <td>1</td>\n",
              "      <td>0</td>\n",
              "      <td>0</td>\n",
              "      <td>1</td>\n",
              "      <td>1</td>\n",
              "      <td>1</td>\n",
              "      <td>0.0</td>\n",
              "      <td>78</td>\n",
              "      <td>Greece</td>\n",
              "      <td>8</td>\n",
              "      <td>Western Europe</td>\n",
              "      <td>Athens</td>\n",
              "      <td>1.0</td>\n",
              "      <td>3</td>\n",
              "      <td>Bombing/Explosion</td>\n",
              "      <td>1</td>\n",
              "      <td>0</td>\n",
              "      <td>6</td>\n",
              "      <td>Explosives</td>\n",
              "      <td>7</td>\n",
              "      <td>Government (Diplomatic)</td>\n",
              "      <td>217.0</td>\n",
              "      <td>United States</td>\n",
              "      <td>0</td>\n",
              "      <td>Unknown</td>\n",
              "      <td>NaN</td>\n",
              "      <td>1</td>\n",
              "      <td>-9</td>\n",
              "      <td>0.0</td>\n",
              "      <td>NaN</td>\n",
              "      <td>NaN</td>\n",
              "      <td>37.997490</td>\n",
              "      <td>23.762728</td>\n",
              "      <td>NaN</td>\n",
              "      <td>NaN</td>\n",
              "      <td>NaN</td>\n",
              "      <td>NaN</td>\n",
              "      <td>NaN</td>\n",
              "      <td>NaN</td>\n",
              "      <td>NaN</td>\n",
              "      <td>NaN</td>\n",
              "      <td>NaN</td>\n",
              "      <td>NaN</td>\n",
              "      <td>0</td>\n",
              "    </tr>\n",
              "    <tr>\n",
              "      <th>4</th>\n",
              "      <td>197001000003</td>\n",
              "      <td>1970</td>\n",
              "      <td>1</td>\n",
              "      <td>0</td>\n",
              "      <td>0</td>\n",
              "      <td>1</td>\n",
              "      <td>1</td>\n",
              "      <td>1</td>\n",
              "      <td>0.0</td>\n",
              "      <td>101</td>\n",
              "      <td>Japan</td>\n",
              "      <td>4</td>\n",
              "      <td>East Asia</td>\n",
              "      <td>Fukouka</td>\n",
              "      <td>1.0</td>\n",
              "      <td>7</td>\n",
              "      <td>Facility/Infrastructure Attack</td>\n",
              "      <td>1</td>\n",
              "      <td>0</td>\n",
              "      <td>8</td>\n",
              "      <td>Incendiary</td>\n",
              "      <td>7</td>\n",
              "      <td>Government (Diplomatic)</td>\n",
              "      <td>217.0</td>\n",
              "      <td>United States</td>\n",
              "      <td>0</td>\n",
              "      <td>Unknown</td>\n",
              "      <td>NaN</td>\n",
              "      <td>1</td>\n",
              "      <td>-9</td>\n",
              "      <td>-9.0</td>\n",
              "      <td>NaN</td>\n",
              "      <td>NaN</td>\n",
              "      <td>33.580412</td>\n",
              "      <td>130.396361</td>\n",
              "      <td>NaN</td>\n",
              "      <td>NaN</td>\n",
              "      <td>NaN</td>\n",
              "      <td>NaN</td>\n",
              "      <td>NaN</td>\n",
              "      <td>NaN</td>\n",
              "      <td>NaN</td>\n",
              "      <td>NaN</td>\n",
              "      <td>NaN</td>\n",
              "      <td>NaN</td>\n",
              "      <td>0</td>\n",
              "    </tr>\n",
              "  </tbody>\n",
              "</table>\n",
              "</div>"
            ],
            "text/plain": [
              "        eventid iyear imonth  ... ransomamt ransompaid related_count\n",
              "0  197000000001  1970      7  ...       NaN        NaN             0\n",
              "1  197000000002  1970      0  ...  800000.0        NaN             0\n",
              "2  197001000001  1970      1  ...       NaN        NaN             0\n",
              "3  197001000002  1970      1  ...       NaN        NaN             0\n",
              "4  197001000003  1970      1  ...       NaN        NaN             0\n",
              "\n",
              "[5 rows x 46 columns]"
            ]
          },
          "metadata": {
            "tags": []
          },
          "execution_count": 269
        }
      ]
    },
    {
      "cell_type": "code",
      "metadata": {
        "id": "a1lSBJ33r4MD",
        "colab_type": "code",
        "colab": {
          "base_uri": "https://localhost:8080/",
          "height": 272
        },
        "outputId": "6e216090-204e-4a63-cbcd-df4e4cde2999"
      },
      "source": [
        "td['eventid']"
      ],
      "execution_count": 194,
      "outputs": [
        {
          "output_type": "execute_result",
          "data": {
            "text/plain": [
              "0         197000000001\n",
              "1         197000000002\n",
              "2         197001000001\n",
              "3         197001000002\n",
              "4         197001000003\n",
              "              ...     \n",
              "181686    201712310022\n",
              "181687    201712310029\n",
              "181688    201712310030\n",
              "181689    201712310031\n",
              "181690    201712310032\n",
              "Name: eventid, Length: 181691, dtype: category\n",
              "Categories (181691, int64): [197000000001, 197000000002, 197001000001, 197001000002, ...,\n",
              "                             201712310029, 201712310030, 201712310031, 201712310032]"
            ]
          },
          "metadata": {
            "tags": []
          },
          "execution_count": 194
        }
      ]
    },
    {
      "cell_type": "code",
      "metadata": {
        "id": "ohLUqCkhvYzJ",
        "colab_type": "code",
        "colab": {
          "base_uri": "https://localhost:8080/",
          "height": 34
        },
        "outputId": "bcedc703-72da-47a0-8a04-defdee4a3b6f"
      },
      "source": [
        "type(td['eventid'][0])"
      ],
      "execution_count": 195,
      "outputs": [
        {
          "output_type": "execute_result",
          "data": {
            "text/plain": [
              "numpy.int64"
            ]
          },
          "metadata": {
            "tags": []
          },
          "execution_count": 195
        }
      ]
    },
    {
      "cell_type": "code",
      "metadata": {
        "id": "8nqghO8RsqTO",
        "colab_type": "code",
        "colab": {
          "base_uri": "https://localhost:8080/",
          "height": 235
        },
        "outputId": "c18bc1f1-78aa-4c18-cc66-88e6bc9f83ee"
      },
      "source": [
        "td['imonth']"
      ],
      "execution_count": 200,
      "outputs": [
        {
          "output_type": "execute_result",
          "data": {
            "text/plain": [
              "0          7\n",
              "1          0\n",
              "2          1\n",
              "3          1\n",
              "4          1\n",
              "          ..\n",
              "181686    12\n",
              "181687    12\n",
              "181688    12\n",
              "181689    12\n",
              "181690    12\n",
              "Name: imonth, Length: 181691, dtype: category\n",
              "Categories (13, int64): [0, 1, 2, 3, ..., 9, 10, 11, 12]"
            ]
          },
          "metadata": {
            "tags": []
          },
          "execution_count": 200
        }
      ]
    },
    {
      "cell_type": "code",
      "metadata": {
        "id": "BDHHlJ5rr8jS",
        "colab_type": "code",
        "colab": {
          "base_uri": "https://localhost:8080/",
          "height": 34
        },
        "outputId": "32856fa6-117c-43e9-e073-c045315da9be"
      },
      "source": [
        "type(td['imonth'][0])"
      ],
      "execution_count": 201,
      "outputs": [
        {
          "output_type": "execute_result",
          "data": {
            "text/plain": [
              "numpy.int64"
            ]
          },
          "metadata": {
            "tags": []
          },
          "execution_count": 201
        }
      ]
    },
    {
      "cell_type": "code",
      "metadata": {
        "id": "roZapamL_tCr",
        "colab_type": "code",
        "colab": {
          "base_uri": "https://localhost:8080/",
          "height": 218
        },
        "outputId": "6f716f4e-26cc-4560-e867-a30085b65ef9"
      },
      "source": [
        "num_cols"
      ],
      "execution_count": 202,
      "outputs": [
        {
          "output_type": "execute_result",
          "data": {
            "text/plain": [
              "['latitude',\n",
              " 'longitude',\n",
              " 'nperps',\n",
              " 'nperpcap',\n",
              " 'nkill',\n",
              " 'nkillter',\n",
              " 'nwound',\n",
              " 'nwoundte',\n",
              " 'propvalue',\n",
              " 'nhostkid',\n",
              " 'ransomamt',\n",
              " 'ransompaid']"
            ]
          },
          "metadata": {
            "tags": []
          },
          "execution_count": 202
        }
      ]
    },
    {
      "cell_type": "code",
      "metadata": {
        "id": "xT4mZhjFXlUQ",
        "colab_type": "code",
        "colab": {
          "base_uri": "https://localhost:8080/",
          "height": 350
        },
        "outputId": "4336fa21-5103-4e60-ce3f-6d1c496d7bd9"
      },
      "source": [
        "for each in num_cols:\n",
        "  td[each] = df_cut[each].astype('float')\n",
        "\n",
        "td.head()"
      ],
      "execution_count": 270,
      "outputs": [
        {
          "output_type": "execute_result",
          "data": {
            "text/html": [
              "<div>\n",
              "<style scoped>\n",
              "    .dataframe tbody tr th:only-of-type {\n",
              "        vertical-align: middle;\n",
              "    }\n",
              "\n",
              "    .dataframe tbody tr th {\n",
              "        vertical-align: top;\n",
              "    }\n",
              "\n",
              "    .dataframe thead th {\n",
              "        text-align: right;\n",
              "    }\n",
              "</style>\n",
              "<table border=\"1\" class=\"dataframe\">\n",
              "  <thead>\n",
              "    <tr style=\"text-align: right;\">\n",
              "      <th></th>\n",
              "      <th>eventid</th>\n",
              "      <th>iyear</th>\n",
              "      <th>imonth</th>\n",
              "      <th>iday</th>\n",
              "      <th>extended</th>\n",
              "      <th>crit1</th>\n",
              "      <th>crit2</th>\n",
              "      <th>crit3</th>\n",
              "      <th>multiple</th>\n",
              "      <th>country</th>\n",
              "      <th>country_txt</th>\n",
              "      <th>region</th>\n",
              "      <th>region_txt</th>\n",
              "      <th>city</th>\n",
              "      <th>specificity</th>\n",
              "      <th>attacktype1</th>\n",
              "      <th>attacktype1_txt</th>\n",
              "      <th>success</th>\n",
              "      <th>suicide</th>\n",
              "      <th>weaptype1</th>\n",
              "      <th>weaptype1_txt</th>\n",
              "      <th>targtype1</th>\n",
              "      <th>targtype1_txt</th>\n",
              "      <th>natlty1</th>\n",
              "      <th>natlty1_txt</th>\n",
              "      <th>individual</th>\n",
              "      <th>gname</th>\n",
              "      <th>claimed</th>\n",
              "      <th>property</th>\n",
              "      <th>INT_IDEO</th>\n",
              "      <th>doubtterr</th>\n",
              "      <th>alternative_txt</th>\n",
              "      <th>related</th>\n",
              "      <th>latitude</th>\n",
              "      <th>longitude</th>\n",
              "      <th>nperps</th>\n",
              "      <th>nperpcap</th>\n",
              "      <th>nkill</th>\n",
              "      <th>nkillter</th>\n",
              "      <th>nwound</th>\n",
              "      <th>nwoundte</th>\n",
              "      <th>propvalue</th>\n",
              "      <th>nhostkid</th>\n",
              "      <th>ransomamt</th>\n",
              "      <th>ransompaid</th>\n",
              "      <th>related_count</th>\n",
              "    </tr>\n",
              "  </thead>\n",
              "  <tbody>\n",
              "    <tr>\n",
              "      <th>0</th>\n",
              "      <td>197000000001</td>\n",
              "      <td>1970</td>\n",
              "      <td>7</td>\n",
              "      <td>2</td>\n",
              "      <td>0</td>\n",
              "      <td>1</td>\n",
              "      <td>1</td>\n",
              "      <td>1</td>\n",
              "      <td>0.0</td>\n",
              "      <td>58</td>\n",
              "      <td>Dominican Republic</td>\n",
              "      <td>2</td>\n",
              "      <td>Central America &amp; Caribbean</td>\n",
              "      <td>Santo Domingo</td>\n",
              "      <td>1.0</td>\n",
              "      <td>1</td>\n",
              "      <td>Assassination</td>\n",
              "      <td>1</td>\n",
              "      <td>0</td>\n",
              "      <td>13</td>\n",
              "      <td>Unknown</td>\n",
              "      <td>14</td>\n",
              "      <td>Private Citizens &amp; Property</td>\n",
              "      <td>58.0</td>\n",
              "      <td>Dominican Republic</td>\n",
              "      <td>0</td>\n",
              "      <td>MANO-D</td>\n",
              "      <td>NaN</td>\n",
              "      <td>0</td>\n",
              "      <td>0</td>\n",
              "      <td>0.0</td>\n",
              "      <td>NaN</td>\n",
              "      <td>NaN</td>\n",
              "      <td>18.456792</td>\n",
              "      <td>-69.951164</td>\n",
              "      <td>NaN</td>\n",
              "      <td>NaN</td>\n",
              "      <td>1.0</td>\n",
              "      <td>NaN</td>\n",
              "      <td>0.0</td>\n",
              "      <td>NaN</td>\n",
              "      <td>NaN</td>\n",
              "      <td>NaN</td>\n",
              "      <td>NaN</td>\n",
              "      <td>NaN</td>\n",
              "      <td>0</td>\n",
              "    </tr>\n",
              "    <tr>\n",
              "      <th>1</th>\n",
              "      <td>197000000002</td>\n",
              "      <td>1970</td>\n",
              "      <td>0</td>\n",
              "      <td>0</td>\n",
              "      <td>0</td>\n",
              "      <td>1</td>\n",
              "      <td>1</td>\n",
              "      <td>1</td>\n",
              "      <td>0.0</td>\n",
              "      <td>130</td>\n",
              "      <td>Mexico</td>\n",
              "      <td>1</td>\n",
              "      <td>North America</td>\n",
              "      <td>Mexico city</td>\n",
              "      <td>1.0</td>\n",
              "      <td>6</td>\n",
              "      <td>Hostage Taking (Kidnapping)</td>\n",
              "      <td>1</td>\n",
              "      <td>0</td>\n",
              "      <td>13</td>\n",
              "      <td>Unknown</td>\n",
              "      <td>7</td>\n",
              "      <td>Government (Diplomatic)</td>\n",
              "      <td>21.0</td>\n",
              "      <td>Belgium</td>\n",
              "      <td>0</td>\n",
              "      <td>23rd of September Communist League</td>\n",
              "      <td>NaN</td>\n",
              "      <td>0</td>\n",
              "      <td>1</td>\n",
              "      <td>0.0</td>\n",
              "      <td>NaN</td>\n",
              "      <td>NaN</td>\n",
              "      <td>19.371887</td>\n",
              "      <td>-99.086624</td>\n",
              "      <td>7.0</td>\n",
              "      <td>NaN</td>\n",
              "      <td>0.0</td>\n",
              "      <td>NaN</td>\n",
              "      <td>0.0</td>\n",
              "      <td>NaN</td>\n",
              "      <td>NaN</td>\n",
              "      <td>1.0</td>\n",
              "      <td>800000.0</td>\n",
              "      <td>NaN</td>\n",
              "      <td>0</td>\n",
              "    </tr>\n",
              "    <tr>\n",
              "      <th>2</th>\n",
              "      <td>197001000001</td>\n",
              "      <td>1970</td>\n",
              "      <td>1</td>\n",
              "      <td>0</td>\n",
              "      <td>0</td>\n",
              "      <td>1</td>\n",
              "      <td>1</td>\n",
              "      <td>1</td>\n",
              "      <td>0.0</td>\n",
              "      <td>160</td>\n",
              "      <td>Philippines</td>\n",
              "      <td>5</td>\n",
              "      <td>Southeast Asia</td>\n",
              "      <td>Unknown</td>\n",
              "      <td>4.0</td>\n",
              "      <td>1</td>\n",
              "      <td>Assassination</td>\n",
              "      <td>1</td>\n",
              "      <td>0</td>\n",
              "      <td>13</td>\n",
              "      <td>Unknown</td>\n",
              "      <td>10</td>\n",
              "      <td>Journalists &amp; Media</td>\n",
              "      <td>217.0</td>\n",
              "      <td>United States</td>\n",
              "      <td>0</td>\n",
              "      <td>Unknown</td>\n",
              "      <td>NaN</td>\n",
              "      <td>0</td>\n",
              "      <td>-9</td>\n",
              "      <td>0.0</td>\n",
              "      <td>NaN</td>\n",
              "      <td>NaN</td>\n",
              "      <td>15.478598</td>\n",
              "      <td>120.599741</td>\n",
              "      <td>NaN</td>\n",
              "      <td>NaN</td>\n",
              "      <td>1.0</td>\n",
              "      <td>NaN</td>\n",
              "      <td>0.0</td>\n",
              "      <td>NaN</td>\n",
              "      <td>NaN</td>\n",
              "      <td>NaN</td>\n",
              "      <td>NaN</td>\n",
              "      <td>NaN</td>\n",
              "      <td>0</td>\n",
              "    </tr>\n",
              "    <tr>\n",
              "      <th>3</th>\n",
              "      <td>197001000002</td>\n",
              "      <td>1970</td>\n",
              "      <td>1</td>\n",
              "      <td>0</td>\n",
              "      <td>0</td>\n",
              "      <td>1</td>\n",
              "      <td>1</td>\n",
              "      <td>1</td>\n",
              "      <td>0.0</td>\n",
              "      <td>78</td>\n",
              "      <td>Greece</td>\n",
              "      <td>8</td>\n",
              "      <td>Western Europe</td>\n",
              "      <td>Athens</td>\n",
              "      <td>1.0</td>\n",
              "      <td>3</td>\n",
              "      <td>Bombing/Explosion</td>\n",
              "      <td>1</td>\n",
              "      <td>0</td>\n",
              "      <td>6</td>\n",
              "      <td>Explosives</td>\n",
              "      <td>7</td>\n",
              "      <td>Government (Diplomatic)</td>\n",
              "      <td>217.0</td>\n",
              "      <td>United States</td>\n",
              "      <td>0</td>\n",
              "      <td>Unknown</td>\n",
              "      <td>NaN</td>\n",
              "      <td>1</td>\n",
              "      <td>-9</td>\n",
              "      <td>0.0</td>\n",
              "      <td>NaN</td>\n",
              "      <td>NaN</td>\n",
              "      <td>37.997490</td>\n",
              "      <td>23.762728</td>\n",
              "      <td>NaN</td>\n",
              "      <td>NaN</td>\n",
              "      <td>NaN</td>\n",
              "      <td>NaN</td>\n",
              "      <td>NaN</td>\n",
              "      <td>NaN</td>\n",
              "      <td>NaN</td>\n",
              "      <td>NaN</td>\n",
              "      <td>NaN</td>\n",
              "      <td>NaN</td>\n",
              "      <td>0</td>\n",
              "    </tr>\n",
              "    <tr>\n",
              "      <th>4</th>\n",
              "      <td>197001000003</td>\n",
              "      <td>1970</td>\n",
              "      <td>1</td>\n",
              "      <td>0</td>\n",
              "      <td>0</td>\n",
              "      <td>1</td>\n",
              "      <td>1</td>\n",
              "      <td>1</td>\n",
              "      <td>0.0</td>\n",
              "      <td>101</td>\n",
              "      <td>Japan</td>\n",
              "      <td>4</td>\n",
              "      <td>East Asia</td>\n",
              "      <td>Fukouka</td>\n",
              "      <td>1.0</td>\n",
              "      <td>7</td>\n",
              "      <td>Facility/Infrastructure Attack</td>\n",
              "      <td>1</td>\n",
              "      <td>0</td>\n",
              "      <td>8</td>\n",
              "      <td>Incendiary</td>\n",
              "      <td>7</td>\n",
              "      <td>Government (Diplomatic)</td>\n",
              "      <td>217.0</td>\n",
              "      <td>United States</td>\n",
              "      <td>0</td>\n",
              "      <td>Unknown</td>\n",
              "      <td>NaN</td>\n",
              "      <td>1</td>\n",
              "      <td>-9</td>\n",
              "      <td>-9.0</td>\n",
              "      <td>NaN</td>\n",
              "      <td>NaN</td>\n",
              "      <td>33.580412</td>\n",
              "      <td>130.396361</td>\n",
              "      <td>NaN</td>\n",
              "      <td>NaN</td>\n",
              "      <td>NaN</td>\n",
              "      <td>NaN</td>\n",
              "      <td>NaN</td>\n",
              "      <td>NaN</td>\n",
              "      <td>NaN</td>\n",
              "      <td>NaN</td>\n",
              "      <td>NaN</td>\n",
              "      <td>NaN</td>\n",
              "      <td>0</td>\n",
              "    </tr>\n",
              "  </tbody>\n",
              "</table>\n",
              "</div>"
            ],
            "text/plain": [
              "        eventid iyear imonth  ... ransomamt ransompaid related_count\n",
              "0  197000000001  1970      7  ...       NaN        NaN             0\n",
              "1  197000000002  1970      0  ...  800000.0        NaN             0\n",
              "2  197001000001  1970      1  ...       NaN        NaN             0\n",
              "3  197001000002  1970      1  ...       NaN        NaN             0\n",
              "4  197001000003  1970      1  ...       NaN        NaN             0\n",
              "\n",
              "[5 rows x 46 columns]"
            ]
          },
          "metadata": {
            "tags": []
          },
          "execution_count": 270
        }
      ]
    },
    {
      "cell_type": "code",
      "metadata": {
        "id": "Mq0zmHhyLSgb",
        "colab_type": "code",
        "colab": {
          "base_uri": "https://localhost:8080/",
          "height": 34
        },
        "outputId": "103b4e6a-a794-4110-92e9-4809eaa607b3"
      },
      "source": [
        "td.shape"
      ],
      "execution_count": 271,
      "outputs": [
        {
          "output_type": "execute_result",
          "data": {
            "text/plain": [
              "(181691, 46)"
            ]
          },
          "metadata": {
            "tags": []
          },
          "execution_count": 271
        }
      ]
    },
    {
      "cell_type": "code",
      "metadata": {
        "id": "QdhMUx-yYOiy",
        "colab_type": "code",
        "colab": {
          "base_uri": "https://localhost:8080/",
          "height": 306
        },
        "outputId": "39b17877-349d-458f-9d06-262028b7ed53"
      },
      "source": [
        "td['related']"
      ],
      "execution_count": 196,
      "outputs": [
        {
          "output_type": "execute_result",
          "data": {
            "text/plain": [
              "0         NaN\n",
              "1         NaN\n",
              "2         NaN\n",
              "3         NaN\n",
              "4         NaN\n",
              "         ... \n",
              "181686    NaN\n",
              "181687    NaN\n",
              "181688    NaN\n",
              "181689    NaN\n",
              "181690    NaN\n",
              "Name: related, Length: 181691, dtype: category\n",
              "Categories (14306, object): [197001300001, 197001300002, 197002030001, 197002030002,\n",
              "                             197002060004, 197002060005, 197002060006, 197002080001, 197002080002, 197002090003, ...,\n",
              "                             201712290013, 201712290014, 201712290015, 201712290022, 201712290023, 201712290024,\n",
              "                             201712290031, 201712290032, 201712300005, 201712310002]"
            ]
          },
          "metadata": {
            "tags": []
          },
          "execution_count": 196
        }
      ]
    },
    {
      "cell_type": "code",
      "metadata": {
        "id": "fcFRpZFAw1cn",
        "colab_type": "code",
        "colab": {
          "base_uri": "https://localhost:8080/",
          "height": 34
        },
        "outputId": "481be85e-d13e-4186-9b39-5829ec3f4f67"
      },
      "source": [
        "type(td['related'][0])"
      ],
      "execution_count": 207,
      "outputs": [
        {
          "output_type": "execute_result",
          "data": {
            "text/plain": [
              "float"
            ]
          },
          "metadata": {
            "tags": []
          },
          "execution_count": 207
        }
      ]
    },
    {
      "cell_type": "code",
      "metadata": {
        "id": "sIKK0ewbwjlE",
        "colab_type": "code",
        "colab": {
          "base_uri": "https://localhost:8080/",
          "height": 35
        },
        "outputId": "5ad51900-e404-442f-b719-9091533c26db"
      },
      "source": [
        "td['related'][36]"
      ],
      "execution_count": 206,
      "outputs": [
        {
          "output_type": "execute_result",
          "data": {
            "application/vnd.google.colaboratory.intrinsic+json": {
              "type": "string"
            },
            "text/plain": [
              "'197001300001, 197001300002'"
            ]
          },
          "metadata": {
            "tags": []
          },
          "execution_count": 206
        }
      ]
    },
    {
      "cell_type": "code",
      "metadata": {
        "id": "bqZszBAmtXWr",
        "colab_type": "code",
        "colab": {
          "base_uri": "https://localhost:8080/",
          "height": 34
        },
        "outputId": "cf7edb0d-20a3-440c-e85d-2a9d86f4f8fe"
      },
      "source": [
        "type(td['related'][36])"
      ],
      "execution_count": 198,
      "outputs": [
        {
          "output_type": "execute_result",
          "data": {
            "text/plain": [
              "str"
            ]
          },
          "metadata": {
            "tags": []
          },
          "execution_count": 198
        }
      ]
    },
    {
      "cell_type": "code",
      "metadata": {
        "id": "I9RHjHF3_Xrs",
        "colab_type": "code",
        "colab": {
          "base_uri": "https://localhost:8080/",
          "height": 306
        },
        "outputId": "a3e26cc0-6b65-4ad4-98b9-855e5b0be771"
      },
      "source": [
        "td['related'][td['related'].notnull()]"
      ],
      "execution_count": 199,
      "outputs": [
        {
          "output_type": "execute_result",
          "data": {
            "text/plain": [
              "36                               197001300001, 197001300002\n",
              "37                               197001300001, 197001300002\n",
              "44                               197002030001, 197002030002\n",
              "45                               197002030001, 197002030002\n",
              "50                 197002060004, 197002060005, 197002060006\n",
              "                                ...                        \n",
              "181648                           201712300005, 201712310002\n",
              "181657    201712290009, 201712300015, 201712300016, 2017...\n",
              "181658    201712290009, 201712300015, 201712300016, 2017...\n",
              "181659    201712290009, 201712300015, 201712300016, 2017...\n",
              "181669                           201712300005, 201712310002\n",
              "Name: related, Length: 25038, dtype: category\n",
              "Categories (14306, object): [197001300001, 197001300002, 197002030001, 197002030002,\n",
              "                             197002060004, 197002060005, 197002060006, 197002080001, 197002080002, 197002090003, ...,\n",
              "                             201712290013, 201712290014, 201712290015, 201712290022, 201712290023, 201712290024,\n",
              "                             201712290031, 201712290032, 201712300005, 201712310002]"
            ]
          },
          "metadata": {
            "tags": []
          },
          "execution_count": 199
        }
      ]
    },
    {
      "cell_type": "code",
      "metadata": {
        "id": "whrz_P5d_1pm",
        "colab_type": "code",
        "colab": {}
      },
      "source": [
        "ids=[]\n",
        "for row in td['related'][td['related'].notnull()]:\n",
        "  ids = ids + row.split(',')\n",
        "  \n"
      ],
      "execution_count": 211,
      "outputs": []
    },
    {
      "cell_type": "code",
      "metadata": {
        "id": "7Eq-CIZ6yZ1Q",
        "colab_type": "code",
        "colab": {
          "base_uri": "https://localhost:8080/",
          "height": 185
        },
        "outputId": "594b51ad-e692-4044-bdd3-0f35e6f6890d"
      },
      "source": [
        "ids[0:10]"
      ],
      "execution_count": 213,
      "outputs": [
        {
          "output_type": "execute_result",
          "data": {
            "text/plain": [
              "['197001300001',\n",
              " ' 197001300002',\n",
              " '197001300001',\n",
              " ' 197001300002',\n",
              " '197002030001',\n",
              " ' 197002030002',\n",
              " '197002030001',\n",
              " ' 197002030002',\n",
              " '197002060004',\n",
              " ' 197002060005']"
            ]
          },
          "metadata": {
            "tags": []
          },
          "execution_count": 213
        }
      ]
    },
    {
      "cell_type": "code",
      "metadata": {
        "id": "E96U6cpgGelF",
        "colab_type": "code",
        "colab": {}
      },
      "source": [
        "ids2=[]\n",
        "for each in ids:\n",
        "  each = each.strip()\n",
        "  ids2.append(each)\n"
      ],
      "execution_count": 249,
      "outputs": []
    },
    {
      "cell_type": "code",
      "metadata": {
        "id": "irBrhvSXJJL7",
        "colab_type": "code",
        "colab": {
          "base_uri": "https://localhost:8080/",
          "height": 185
        },
        "outputId": "f30c226f-1667-4782-8914-fbb25ed211d5"
      },
      "source": [
        "ids2[0:10]"
      ],
      "execution_count": 250,
      "outputs": [
        {
          "output_type": "execute_result",
          "data": {
            "text/plain": [
              "['197001300001',\n",
              " '197001300002',\n",
              " '197001300001',\n",
              " '197001300002',\n",
              " '197002030001',\n",
              " '197002030002',\n",
              " '197002030001',\n",
              " '197002030002',\n",
              " '197002060004',\n",
              " '197002060005']"
            ]
          },
          "metadata": {
            "tags": []
          },
          "execution_count": 250
        }
      ]
    },
    {
      "cell_type": "code",
      "metadata": {
        "id": "ksQC4x2bZFLA",
        "colab_type": "code",
        "colab": {
          "base_uri": "https://localhost:8080/",
          "height": 34
        },
        "outputId": "42f0003e-34c9-4c9e-f73b-f9c4810667b3"
      },
      "source": [
        "type(ids2)\n"
      ],
      "execution_count": 216,
      "outputs": [
        {
          "output_type": "execute_result",
          "data": {
            "text/plain": [
              "list"
            ]
          },
          "metadata": {
            "tags": []
          },
          "execution_count": 216
        }
      ]
    },
    {
      "cell_type": "code",
      "metadata": {
        "id": "qYz3XnDIyq8J",
        "colab_type": "code",
        "colab": {
          "base_uri": "https://localhost:8080/",
          "height": 34
        },
        "outputId": "c4fffc37-1b51-4ca8-f6f9-5a9b4c9281e4"
      },
      "source": [
        "type(ids2[0])"
      ],
      "execution_count": 217,
      "outputs": [
        {
          "output_type": "execute_result",
          "data": {
            "text/plain": [
              "str"
            ]
          },
          "metadata": {
            "tags": []
          },
          "execution_count": 217
        }
      ]
    },
    {
      "cell_type": "code",
      "metadata": {
        "id": "1bxl-njdZYxv",
        "colab_type": "code",
        "colab": {
          "base_uri": "https://localhost:8080/",
          "height": 272
        },
        "outputId": "24f39cf7-8491-4eca-8170-b4b0efa2ba56"
      },
      "source": [
        "td['eventid']\n"
      ],
      "execution_count": 144,
      "outputs": [
        {
          "output_type": "execute_result",
          "data": {
            "text/plain": [
              "0         197000000001\n",
              "1         197000000002\n",
              "2         197001000001\n",
              "3         197001000002\n",
              "4         197001000003\n",
              "              ...     \n",
              "181686    201712310022\n",
              "181687    201712310029\n",
              "181688    201712310030\n",
              "181689    201712310031\n",
              "181690    201712310032\n",
              "Name: eventid, Length: 181691, dtype: category\n",
              "Categories (181691, int64): [197000000001, 197000000002, 197001000001, 197001000002, ...,\n",
              "                             201712310029, 201712310030, 201712310031, 201712310032]"
            ]
          },
          "metadata": {
            "tags": []
          },
          "execution_count": 144
        }
      ]
    },
    {
      "cell_type": "code",
      "metadata": {
        "id": "KLjj6cgjaNUk",
        "colab_type": "code",
        "colab": {
          "base_uri": "https://localhost:8080/",
          "height": 34
        },
        "outputId": "516ed2ab-bda4-4df0-b819-8f6c4f4cb22c"
      },
      "source": [
        "td['eventid'][0]\n",
        "type(td['eventid'][0])"
      ],
      "execution_count": 146,
      "outputs": [
        {
          "output_type": "execute_result",
          "data": {
            "text/plain": [
              "numpy.int64"
            ]
          },
          "metadata": {
            "tags": []
          },
          "execution_count": 146
        }
      ]
    },
    {
      "cell_type": "code",
      "metadata": {
        "id": "vd7QVb8YaveK",
        "colab_type": "code",
        "colab": {
          "base_uri": "https://localhost:8080/",
          "height": 235
        },
        "outputId": "d5e4bf54-3901-4b11-eb2d-e7bd74a52786"
      },
      "source": [
        "td['imonth']"
      ],
      "execution_count": 147,
      "outputs": [
        {
          "output_type": "execute_result",
          "data": {
            "text/plain": [
              "0          7\n",
              "1          0\n",
              "2          1\n",
              "3          1\n",
              "4          1\n",
              "          ..\n",
              "181686    12\n",
              "181687    12\n",
              "181688    12\n",
              "181689    12\n",
              "181690    12\n",
              "Name: imonth, Length: 181691, dtype: category\n",
              "Categories (13, int64): [0, 1, 2, 3, ..., 9, 10, 11, 12]"
            ]
          },
          "metadata": {
            "tags": []
          },
          "execution_count": 147
        }
      ]
    },
    {
      "cell_type": "code",
      "metadata": {
        "id": "F_9c2cxGzBQU",
        "colab_type": "code",
        "colab": {
          "base_uri": "https://localhost:8080/",
          "height": 101
        },
        "outputId": "1ab6ff90-6e7c-499b-c731-12c6e269978c"
      },
      "source": [
        "pd.Series(['a', 'b', 'v']).astype('category')"
      ],
      "execution_count": 219,
      "outputs": [
        {
          "output_type": "execute_result",
          "data": {
            "text/plain": [
              "0    a\n",
              "1    b\n",
              "2    v\n",
              "dtype: category\n",
              "Categories (3, object): [a, b, v]"
            ]
          },
          "metadata": {
            "tags": []
          },
          "execution_count": 219
        }
      ]
    },
    {
      "cell_type": "code",
      "metadata": {
        "id": "CNiLdcY00N5Z",
        "colab_type": "code",
        "colab": {
          "base_uri": "https://localhost:8080/",
          "height": 168
        },
        "outputId": "8420813f-348a-4c8a-e939-a0c21aa50062"
      },
      "source": [
        "td.columns"
      ],
      "execution_count": 221,
      "outputs": [
        {
          "output_type": "execute_result",
          "data": {
            "text/plain": [
              "Index(['eventid', 'iyear', 'imonth', 'iday', 'extended', 'crit1', 'crit2',\n",
              "       'crit3', 'multiple', 'country', 'country_txt', 'region', 'region_txt',\n",
              "       'city', 'specificity', 'attacktype1', 'attacktype1_txt', 'success',\n",
              "       'suicide', 'weaptype1', 'weaptype1_txt', 'targtype1', 'targtype1_txt',\n",
              "       'natlty1', 'natlty1_txt', 'individual', 'gname', 'claimed', 'property',\n",
              "       'INT_IDEO', 'doubtterr', 'alternative_txt', 'related', 'latitude',\n",
              "       'longitude', 'nperps', 'nperpcap', 'nkill', 'nkillter', 'nwound',\n",
              "       'nwoundte', 'propvalue', 'nhostkid', 'ransomamt', 'ransompaid'],\n",
              "      dtype='object')"
            ]
          },
          "metadata": {
            "tags": []
          },
          "execution_count": 221
        }
      ]
    },
    {
      "cell_type": "code",
      "metadata": {
        "id": "483TDNBgQahR",
        "colab_type": "code",
        "colab": {
          "base_uri": "https://localhost:8080/",
          "height": 34
        },
        "outputId": "0148265d-a7cd-4832-c4a7-97cf1c0a0dd3"
      },
      "source": [
        "ids2.count(str(td['eventid'][0]))\n",
        "  "
      ],
      "execution_count": 251,
      "outputs": [
        {
          "output_type": "execute_result",
          "data": {
            "text/plain": [
              "0"
            ]
          },
          "metadata": {
            "tags": []
          },
          "execution_count": 251
        }
      ]
    },
    {
      "cell_type": "code",
      "metadata": {
        "id": "H3qh89s0BvTm",
        "colab_type": "code",
        "colab": {}
      },
      "source": [
        "for each in td['eventid']:\n",
        "  td['related_count']=ids2.count(str(each))"
      ],
      "execution_count": 252,
      "outputs": []
    },
    {
      "cell_type": "code",
      "metadata": {
        "id": "R1G_sBnyF7io",
        "colab_type": "code",
        "colab": {
          "base_uri": "https://localhost:8080/",
          "height": 50
        },
        "outputId": "72faad85-f95f-4c1e-ca9c-d61f86f48295"
      },
      "source": [
        "td['related_count'].value_counts()"
      ],
      "execution_count": 254,
      "outputs": [
        {
          "output_type": "execute_result",
          "data": {
            "text/plain": [
              "0    181691\n",
              "Name: related_count, dtype: int64"
            ]
          },
          "metadata": {
            "tags": []
          },
          "execution_count": 254
        }
      ]
    },
    {
      "cell_type": "code",
      "metadata": {
        "id": "eWnrDgv7GHfJ",
        "colab_type": "code",
        "colab": {
          "base_uri": "https://localhost:8080/",
          "height": 34
        },
        "outputId": "5d39a0eb-e682-4ce6-a444-f28c6b4d7828"
      },
      "source": [
        "td['related_count'].unique()"
      ],
      "execution_count": 256,
      "outputs": [
        {
          "output_type": "execute_result",
          "data": {
            "text/plain": [
              "array([0])"
            ]
          },
          "metadata": {
            "tags": []
          },
          "execution_count": 256
        }
      ]
    },
    {
      "cell_type": "code",
      "metadata": {
        "id": "TbiK39-qIVFo",
        "colab_type": "code",
        "colab": {}
      },
      "source": [
        ""
      ],
      "execution_count": null,
      "outputs": []
    },
    {
      "cell_type": "markdown",
      "metadata": {
        "id": "qfNni58cIVxE",
        "colab_type": "text"
      },
      "source": [
        "# 3. REPLACE FAULTY VALUES"
      ]
    },
    {
      "cell_type": "code",
      "metadata": {
        "id": "1shtoXs-I9jd",
        "colab_type": "code",
        "colab": {}
      },
      "source": [
        "backup = td.copy(deep=True)"
      ],
      "execution_count": 272,
      "outputs": []
    },
    {
      "cell_type": "code",
      "metadata": {
        "id": "koFyU5VZK_ej",
        "colab_type": "code",
        "colab": {}
      },
      "source": [
        "#"
      ],
      "execution_count": null,
      "outputs": []
    },
    {
      "cell_type": "code",
      "metadata": {
        "id": "oLmlyCYaJD1h",
        "colab_type": "code",
        "colab": {
          "base_uri": "https://localhost:8080/",
          "height": 34
        },
        "outputId": "23795996-1b41-4127-9831-84eb730b615e"
      },
      "source": [
        "td['iday'].isnull().sum()"
      ],
      "execution_count": 273,
      "outputs": [
        {
          "output_type": "execute_result",
          "data": {
            "text/plain": [
              "0"
            ]
          },
          "metadata": {
            "tags": []
          },
          "execution_count": 273
        }
      ]
    },
    {
      "cell_type": "code",
      "metadata": {
        "id": "ZoQvZTuOKdfd",
        "colab_type": "code",
        "colab": {
          "base_uri": "https://localhost:8080/",
          "height": 67
        },
        "outputId": "e595b1c8-e04e-4be8-85ad-6f005fe6a424"
      },
      "source": [
        "(td['iday']==0).value_counts()"
      ],
      "execution_count": 274,
      "outputs": [
        {
          "output_type": "execute_result",
          "data": {
            "text/plain": [
              "False    180800\n",
              "True        891\n",
              "Name: iday, dtype: int64"
            ]
          },
          "metadata": {
            "tags": []
          },
          "execution_count": 274
        }
      ]
    },
    {
      "cell_type": "code",
      "metadata": {
        "id": "-HbLe7kDIVu3",
        "colab_type": "code",
        "colab": {}
      },
      "source": [
        "td['iday'].replace(0, np.nan, inplace=True)"
      ],
      "execution_count": 275,
      "outputs": []
    },
    {
      "cell_type": "code",
      "metadata": {
        "id": "FM4SwnohJjQz",
        "colab_type": "code",
        "colab": {
          "base_uri": "https://localhost:8080/",
          "height": 34
        },
        "outputId": "4e623093-2a5c-42eb-d83c-bb280fd84959"
      },
      "source": [
        "td['iday'].isnull().sum()"
      ],
      "execution_count": 276,
      "outputs": [
        {
          "output_type": "execute_result",
          "data": {
            "text/plain": [
              "891"
            ]
          },
          "metadata": {
            "tags": []
          },
          "execution_count": 276
        }
      ]
    },
    {
      "cell_type": "code",
      "metadata": {
        "id": "wjAYk0qjLuqZ",
        "colab_type": "code",
        "colab": {}
      },
      "source": [
        ""
      ],
      "execution_count": null,
      "outputs": []
    },
    {
      "cell_type": "code",
      "metadata": {
        "id": "q6lFvrtcLvHb",
        "colab_type": "code",
        "colab": {}
      },
      "source": [
        ""
      ],
      "execution_count": null,
      "outputs": []
    },
    {
      "cell_type": "code",
      "metadata": {
        "id": "5_KhKnUtLvys",
        "colab_type": "code",
        "colab": {}
      },
      "source": [
        ""
      ],
      "execution_count": null,
      "outputs": []
    },
    {
      "cell_type": "code",
      "metadata": {
        "id": "Cffz5KnzLwgL",
        "colab_type": "code",
        "colab": {
          "base_uri": "https://localhost:8080/",
          "height": 34
        },
        "outputId": "4d3dd933-0671-4d5e-fc4a-660eb0e62ec8"
      },
      "source": [
        "td['nperps'].isnull().sum()"
      ],
      "execution_count": 277,
      "outputs": [
        {
          "output_type": "execute_result",
          "data": {
            "text/plain": [
              "71115"
            ]
          },
          "metadata": {
            "tags": []
          },
          "execution_count": 277
        }
      ]
    },
    {
      "cell_type": "code",
      "metadata": {
        "id": "ZbnK4eGxMMhB",
        "colab_type": "code",
        "colab": {
          "base_uri": "https://localhost:8080/",
          "height": 67
        },
        "outputId": "bc2a1d7d-4269-4d04-cd1f-920eb479704d"
      },
      "source": [
        "(td['nperps']==-99).value_counts()"
      ],
      "execution_count": 278,
      "outputs": [
        {
          "output_type": "execute_result",
          "data": {
            "text/plain": [
              "False    99473\n",
              "True     82218\n",
              "Name: nperps, dtype: int64"
            ]
          },
          "metadata": {
            "tags": []
          },
          "execution_count": 278
        }
      ]
    },
    {
      "cell_type": "code",
      "metadata": {
        "id": "hJQsRKYRMSra",
        "colab_type": "code",
        "colab": {}
      },
      "source": [
        "td['nperps'].replace(-99, np.nan, inplace=True)"
      ],
      "execution_count": 279,
      "outputs": []
    },
    {
      "cell_type": "code",
      "metadata": {
        "id": "NgZ9P1PuMhbC",
        "colab_type": "code",
        "colab": {
          "base_uri": "https://localhost:8080/",
          "height": 34
        },
        "outputId": "48916070-f47c-46b4-eb2c-ecdb28121169"
      },
      "source": [
        "td['nperps'].isnull().sum()"
      ],
      "execution_count": 280,
      "outputs": [
        {
          "output_type": "execute_result",
          "data": {
            "text/plain": [
              "153333"
            ]
          },
          "metadata": {
            "tags": []
          },
          "execution_count": 280
        }
      ]
    },
    {
      "cell_type": "code",
      "metadata": {
        "id": "_xTpKH3UMl8f",
        "colab_type": "code",
        "colab": {}
      },
      "source": [
        "td['claimed'].replace(-9, np.nan, inplace=True)"
      ],
      "execution_count": 281,
      "outputs": []
    },
    {
      "cell_type": "code",
      "metadata": {
        "id": "vRzz-lZENbOM",
        "colab_type": "code",
        "colab": {}
      },
      "source": [
        "td['property'].replace(-9, np.nan, inplace=True)"
      ],
      "execution_count": 282,
      "outputs": []
    },
    {
      "cell_type": "code",
      "metadata": {
        "id": "SyBc6zLpNg6Z",
        "colab_type": "code",
        "colab": {}
      },
      "source": [
        "td['propvalue'].replace(-99, np.nan, inplace=True)"
      ],
      "execution_count": 283,
      "outputs": []
    },
    {
      "cell_type": "code",
      "metadata": {
        "id": "eDakYG65Nmim",
        "colab_type": "code",
        "colab": {}
      },
      "source": [
        "td['nhostkid'].replace(-99, np.nan, inplace=True)"
      ],
      "execution_count": 284,
      "outputs": []
    },
    {
      "cell_type": "code",
      "metadata": {
        "id": "Q00tf_yiNwkj",
        "colab_type": "code",
        "colab": {}
      },
      "source": [
        "td['ransomamt'].replace(-99, np.nan, inplace=True)"
      ],
      "execution_count": 285,
      "outputs": []
    },
    {
      "cell_type": "code",
      "metadata": {
        "id": "Ou5MJ_vJN6AY",
        "colab_type": "code",
        "colab": {}
      },
      "source": [
        "td['ransompaid'].replace(-99, np.nan, inplace=True)"
      ],
      "execution_count": 286,
      "outputs": []
    },
    {
      "cell_type": "code",
      "metadata": {
        "id": "DshARJ4RN-IH",
        "colab_type": "code",
        "colab": {}
      },
      "source": [
        "td['INT_IDEO'].replace(-9, np.nan, inplace=True)"
      ],
      "execution_count": 287,
      "outputs": []
    },
    {
      "cell_type": "code",
      "metadata": {
        "id": "dmeF3lw4OCpF",
        "colab_type": "code",
        "colab": {}
      },
      "source": [
        "td['doubtterr'].replace(-9, np.nan, inplace=True)"
      ],
      "execution_count": 300,
      "outputs": []
    },
    {
      "cell_type": "code",
      "metadata": {
        "id": "4r5w3FJdOFKH",
        "colab_type": "code",
        "colab": {
          "base_uri": "https://localhost:8080/",
          "height": 34
        },
        "outputId": "6722a49e-ceb5-40e5-8a61-b1dd70154f6e"
      },
      "source": [
        "backup.isnull().sum().sum()"
      ],
      "execution_count": 294,
      "outputs": [
        {
          "output_type": "execute_result",
          "data": {
            "text/plain": [
              "1363534"
            ]
          },
          "metadata": {
            "tags": []
          },
          "execution_count": 294
        }
      ]
    },
    {
      "cell_type": "code",
      "metadata": {
        "id": "EE7iQX8nOQZr",
        "colab_type": "code",
        "colab": {
          "base_uri": "https://localhost:8080/",
          "height": 34
        },
        "outputId": "11c1f9f4-46f8-4a5a-d6d1-c9a60c47a7ef"
      },
      "source": [
        "td.isnull().sum().sum()"
      ],
      "execution_count": 301,
      "outputs": [
        {
          "output_type": "execute_result",
          "data": {
            "text/plain": [
              "1606366"
            ]
          },
          "metadata": {
            "tags": []
          },
          "execution_count": 301
        }
      ]
    },
    {
      "cell_type": "code",
      "metadata": {
        "id": "sFTtBQSDPAUF",
        "colab_type": "code",
        "colab": {
          "base_uri": "https://localhost:8080/",
          "height": 806
        },
        "outputId": "18000c53-e9ca-419c-f1ad-75eae9446622"
      },
      "source": [
        "td.isnull().sum()"
      ],
      "execution_count": 304,
      "outputs": [
        {
          "output_type": "execute_result",
          "data": {
            "text/plain": [
              "eventid                 0\n",
              "iyear                   0\n",
              "imonth                  0\n",
              "iday                  891\n",
              "extended                0\n",
              "crit1                   0\n",
              "crit2                   0\n",
              "crit3                   0\n",
              "multiple                1\n",
              "country                 0\n",
              "country_txt             0\n",
              "region                  0\n",
              "region_txt              0\n",
              "city                  434\n",
              "specificity             6\n",
              "attacktype1             0\n",
              "attacktype1_txt         0\n",
              "success                 0\n",
              "suicide                 0\n",
              "weaptype1               0\n",
              "weaptype1_txt           0\n",
              "targtype1               0\n",
              "targtype1_txt           0\n",
              "natlty1              1559\n",
              "natlty1_txt          1559\n",
              "individual              0\n",
              "gname                   0\n",
              "claimed             67594\n",
              "property            21386\n",
              "INT_IDEO            92659\n",
              "doubtterr           13785\n",
              "alternative_txt    152680\n",
              "related            156653\n",
              "latitude             4556\n",
              "longitude            4557\n",
              "nperps             153333\n",
              "nperpcap            69489\n",
              "nkill               10313\n",
              "nkillter            66958\n",
              "nwound              16311\n",
              "nwoundte            69143\n",
              "propvalue          171315\n",
              "nhostkid           169356\n",
              "ransomamt          180589\n",
              "ransompaid         181239\n",
              "related_count           0\n",
              "dtype: int64"
            ]
          },
          "metadata": {
            "tags": []
          },
          "execution_count": 304
        }
      ]
    },
    {
      "cell_type": "code",
      "metadata": {
        "id": "gNk9bN50Wo6l",
        "colab_type": "code",
        "colab": {
          "base_uri": "https://localhost:8080/",
          "height": 34
        },
        "outputId": "c7f81c43-2c64-4dd2-c03a-49c18bf96dbc"
      },
      "source": [
        "len(td.index[td['doubtterr'].isnull()])"
      ],
      "execution_count": 305,
      "outputs": [
        {
          "output_type": "execute_result",
          "data": {
            "text/plain": [
              "13785"
            ]
          },
          "metadata": {
            "tags": []
          },
          "execution_count": 305
        }
      ]
    },
    {
      "cell_type": "code",
      "metadata": {
        "id": "6JjjveJzPzG7",
        "colab_type": "code",
        "colab": {}
      },
      "source": [
        "td1 = td.drop(index = td.index[td['doubtterr'].isnull()], axis=0, inplace=False)"
      ],
      "execution_count": 306,
      "outputs": []
    },
    {
      "cell_type": "code",
      "metadata": {
        "id": "w7f5BJ-jQYrE",
        "colab_type": "code",
        "colab": {
          "base_uri": "https://localhost:8080/",
          "height": 34
        },
        "outputId": "ceab5b3d-ec1f-41df-f806-532d9ad4ab67"
      },
      "source": [
        "td1['doubtterr'].isnull().sum()"
      ],
      "execution_count": 307,
      "outputs": [
        {
          "output_type": "execute_result",
          "data": {
            "text/plain": [
              "0"
            ]
          },
          "metadata": {
            "tags": []
          },
          "execution_count": 307
        }
      ]
    },
    {
      "cell_type": "code",
      "metadata": {
        "id": "9KSWy41RXR7T",
        "colab_type": "code",
        "colab": {
          "base_uri": "https://localhost:8080/",
          "height": 34
        },
        "outputId": "04f62106-e325-428d-ef87-f1d9ab4c7ee6"
      },
      "source": [
        "td1.isnull().sum().sum()"
      ],
      "execution_count": 308,
      "outputs": [
        {
          "output_type": "execute_result",
          "data": {
            "text/plain": [
              "1430792"
            ]
          },
          "metadata": {
            "tags": []
          },
          "execution_count": 308
        }
      ]
    },
    {
      "cell_type": "markdown",
      "metadata": {
        "id": "YQvi8D_zQaGt",
        "colab_type": "text"
      },
      "source": [
        "# STATISTICAL TESTS WITH NULLS"
      ]
    },
    {
      "cell_type": "markdown",
      "metadata": {
        "id": "PujTNACTQg3q",
        "colab_type": "text"
      },
      "source": [
        "# NUM (vs) CAT"
      ]
    },
    {
      "cell_type": "code",
      "metadata": {
        "id": "lJgRqquyQ1MZ",
        "colab_type": "code",
        "colab": {
          "base_uri": "https://localhost:8080/",
          "height": 571
        },
        "outputId": "3bad63d7-5318-4a79-dc54-347b28ac0135"
      },
      "source": [
        "cat_cols"
      ],
      "execution_count": 315,
      "outputs": [
        {
          "output_type": "execute_result",
          "data": {
            "text/plain": [
              "['eventid',\n",
              " 'iyear',\n",
              " 'imonth',\n",
              " 'iday',\n",
              " 'extended',\n",
              " 'related',\n",
              " 'crit1',\n",
              " 'crit2',\n",
              " 'crit3',\n",
              " 'multiple',\n",
              " 'country',\n",
              " 'country_txt',\n",
              " 'region',\n",
              " 'region_txt',\n",
              " 'city',\n",
              " 'specificity',\n",
              " 'attacktype1',\n",
              " 'attacktype1_txt',\n",
              " 'success',\n",
              " 'suicide',\n",
              " 'weaptype1',\n",
              " 'weaptype1_txt',\n",
              " 'targtype1',\n",
              " 'targtype1_txt',\n",
              " 'natlty1',\n",
              " 'natlty1_txt',\n",
              " 'individual',\n",
              " 'gname',\n",
              " 'claimed',\n",
              " 'property',\n",
              " 'INT_IDEO',\n",
              " 'doubtterr',\n",
              " 'alternative_txt']"
            ]
          },
          "metadata": {
            "tags": []
          },
          "execution_count": 315
        }
      ]
    },
    {
      "cell_type": "code",
      "metadata": {
        "id": "AY3yGUozQ4ae",
        "colab_type": "code",
        "colab": {
          "base_uri": "https://localhost:8080/",
          "height": 286
        },
        "outputId": "1895d8b9-7377-42f7-92af-0a914ca355cb"
      },
      "source": [
        "import pandas      as pd\n",
        "import numpy       as np\n",
        "import scipy.stats as stats\n",
        "\n",
        "# quality_array = np.array([[138, 83, 64],[64, 67, 84]])\n",
        "actual_vals = pd.crosstab(index = td1[cat_cols[0]], columns = td1['doubtterr'], values=None)\n",
        "# expected values table\n",
        "# exp = row total*col total/grand total\n",
        "\n",
        "chi_sq_Stat, p_value, deg_freedom, exp_freq = stats.chi2_contingency(actual_vals)\n",
        "\n",
        "#print(actual_vals)\n",
        "print('Chi-square statistic %3.5f P value %1.6f Degrees of freedom %d' %(chi_sq_Stat, p_value, deg_freedom))"
      ],
      "execution_count": 309,
      "outputs": [
        {
          "output_type": "stream",
          "text": [
            "doubtterr     0.0  1.0\n",
            "eventid               \n",
            "197000000001    1    0\n",
            "197000000002    1    0\n",
            "197001000001    1    0\n",
            "197001000002    1    0\n",
            "197001010002    1    0\n",
            "...           ...  ...\n",
            "201712310022    0    1\n",
            "201712310029    0    1\n",
            "201712310030    1    0\n",
            "201712310031    1    0\n",
            "201712310032    1    0\n",
            "\n",
            "[167906 rows x 2 columns]\n",
            "Chi-square statistic 167906.00000 P value 0.498853 Degrees of freedom 167905\n"
          ],
          "name": "stdout"
        }
      ]
    },
    {
      "cell_type": "code",
      "metadata": {
        "id": "3DxtraTehMbe",
        "colab_type": "code",
        "colab": {}
      },
      "source": [
        "from statsmodels.stats.proportion import proportions_ztest\n",
        "counts=np.array([2279,387])\n",
        "obs=np.array([3545,607])\n",
        "proportions_ztest(counts,obs)"
      ],
      "execution_count": null,
      "outputs": []
    },
    {
      "cell_type": "code",
      "metadata": {
        "id": "DPoVVYPlZk9s",
        "colab_type": "code",
        "colab": {}
      },
      "source": [
        "cat_pval = pd.DataFrame({})\n",
        "col_name = []\n",
        "chi_stat = []\n",
        "p_values = []"
      ],
      "execution_count": 322,
      "outputs": []
    },
    {
      "cell_type": "code",
      "metadata": {
        "id": "FXgEl9C2VuCB",
        "colab_type": "code",
        "colab": {}
      },
      "source": [
        "for each in cat_cols[:-2]:\n",
        "  actual_vals = pd.crosstab(index = td1[each], columns = td1['doubtterr'], values=None)\n",
        "  chi_sq_Stat, p_value, deg_freedom, exp_freq = stats.chi2_contingency(actual_vals)\n",
        "  col_name.append(each)\n",
        "  chi_stat.append(chi_sq_Stat)\n",
        "  p_values.append(p_value)\n",
        "  #print('Chi-square statistic %3.5f P value %1.6f Degrees of freedom %d' %(chi_sq_Stat, p_value, deg_freedom))"
      ],
      "execution_count": 323,
      "outputs": []
    },
    {
      "cell_type": "code",
      "metadata": {
        "id": "BZ8SP-ZDXPnH",
        "colab_type": "code",
        "colab": {}
      },
      "source": [
        "cat_pval['col_name'] = col_name\n",
        "cat_pval['chi_stat'] = chi_sq_Stat\n",
        "cat_pval['p_vals'] = p_values"
      ],
      "execution_count": 324,
      "outputs": []
    },
    {
      "cell_type": "code",
      "metadata": {
        "id": "NtjlF8Ylafzl",
        "colab_type": "code",
        "colab": {
          "base_uri": "https://localhost:8080/",
          "height": 965
        },
        "outputId": "22a73477-70c9-478d-90a1-6f1af08267fc"
      },
      "source": [
        "cat_pval"
      ],
      "execution_count": 325,
      "outputs": [
        {
          "output_type": "execute_result",
          "data": {
            "text/html": [
              "<div>\n",
              "<style scoped>\n",
              "    .dataframe tbody tr th:only-of-type {\n",
              "        vertical-align: middle;\n",
              "    }\n",
              "\n",
              "    .dataframe tbody tr th {\n",
              "        vertical-align: top;\n",
              "    }\n",
              "\n",
              "    .dataframe thead th {\n",
              "        text-align: right;\n",
              "    }\n",
              "</style>\n",
              "<table border=\"1\" class=\"dataframe\">\n",
              "  <thead>\n",
              "    <tr style=\"text-align: right;\">\n",
              "      <th></th>\n",
              "      <th>col_name</th>\n",
              "      <th>chi_stat</th>\n",
              "      <th>p_vals</th>\n",
              "    </tr>\n",
              "  </thead>\n",
              "  <tbody>\n",
              "    <tr>\n",
              "      <th>0</th>\n",
              "      <td>eventid</td>\n",
              "      <td>99.569756</td>\n",
              "      <td>4.988526e-01</td>\n",
              "    </tr>\n",
              "    <tr>\n",
              "      <th>1</th>\n",
              "      <td>iyear</td>\n",
              "      <td>99.569756</td>\n",
              "      <td>0.000000e+00</td>\n",
              "    </tr>\n",
              "    <tr>\n",
              "      <th>2</th>\n",
              "      <td>imonth</td>\n",
              "      <td>99.569756</td>\n",
              "      <td>1.067818e-03</td>\n",
              "    </tr>\n",
              "    <tr>\n",
              "      <th>3</th>\n",
              "      <td>iday</td>\n",
              "      <td>99.569756</td>\n",
              "      <td>5.517781e-04</td>\n",
              "    </tr>\n",
              "    <tr>\n",
              "      <th>4</th>\n",
              "      <td>extended</td>\n",
              "      <td>99.569756</td>\n",
              "      <td>1.249763e-52</td>\n",
              "    </tr>\n",
              "    <tr>\n",
              "      <th>5</th>\n",
              "      <td>related</td>\n",
              "      <td>99.569756</td>\n",
              "      <td>0.000000e+00</td>\n",
              "    </tr>\n",
              "    <tr>\n",
              "      <th>6</th>\n",
              "      <td>crit1</td>\n",
              "      <td>99.569756</td>\n",
              "      <td>0.000000e+00</td>\n",
              "    </tr>\n",
              "    <tr>\n",
              "      <th>7</th>\n",
              "      <td>crit2</td>\n",
              "      <td>99.569756</td>\n",
              "      <td>0.000000e+00</td>\n",
              "    </tr>\n",
              "    <tr>\n",
              "      <th>8</th>\n",
              "      <td>crit3</td>\n",
              "      <td>99.569756</td>\n",
              "      <td>0.000000e+00</td>\n",
              "    </tr>\n",
              "    <tr>\n",
              "      <th>9</th>\n",
              "      <td>multiple</td>\n",
              "      <td>99.569756</td>\n",
              "      <td>2.334324e-169</td>\n",
              "    </tr>\n",
              "    <tr>\n",
              "      <th>10</th>\n",
              "      <td>country</td>\n",
              "      <td>99.569756</td>\n",
              "      <td>0.000000e+00</td>\n",
              "    </tr>\n",
              "    <tr>\n",
              "      <th>11</th>\n",
              "      <td>country_txt</td>\n",
              "      <td>99.569756</td>\n",
              "      <td>0.000000e+00</td>\n",
              "    </tr>\n",
              "    <tr>\n",
              "      <th>12</th>\n",
              "      <td>region</td>\n",
              "      <td>99.569756</td>\n",
              "      <td>0.000000e+00</td>\n",
              "    </tr>\n",
              "    <tr>\n",
              "      <th>13</th>\n",
              "      <td>region_txt</td>\n",
              "      <td>99.569756</td>\n",
              "      <td>0.000000e+00</td>\n",
              "    </tr>\n",
              "    <tr>\n",
              "      <th>14</th>\n",
              "      <td>city</td>\n",
              "      <td>99.569756</td>\n",
              "      <td>0.000000e+00</td>\n",
              "    </tr>\n",
              "    <tr>\n",
              "      <th>15</th>\n",
              "      <td>specificity</td>\n",
              "      <td>99.569756</td>\n",
              "      <td>3.595438e-159</td>\n",
              "    </tr>\n",
              "    <tr>\n",
              "      <th>16</th>\n",
              "      <td>attacktype1</td>\n",
              "      <td>99.569756</td>\n",
              "      <td>0.000000e+00</td>\n",
              "    </tr>\n",
              "    <tr>\n",
              "      <th>17</th>\n",
              "      <td>attacktype1_txt</td>\n",
              "      <td>99.569756</td>\n",
              "      <td>0.000000e+00</td>\n",
              "    </tr>\n",
              "    <tr>\n",
              "      <th>18</th>\n",
              "      <td>success</td>\n",
              "      <td>99.569756</td>\n",
              "      <td>2.675940e-31</td>\n",
              "    </tr>\n",
              "    <tr>\n",
              "      <th>19</th>\n",
              "      <td>suicide</td>\n",
              "      <td>99.569756</td>\n",
              "      <td>3.574625e-06</td>\n",
              "    </tr>\n",
              "    <tr>\n",
              "      <th>20</th>\n",
              "      <td>weaptype1</td>\n",
              "      <td>99.569756</td>\n",
              "      <td>0.000000e+00</td>\n",
              "    </tr>\n",
              "    <tr>\n",
              "      <th>21</th>\n",
              "      <td>weaptype1_txt</td>\n",
              "      <td>99.569756</td>\n",
              "      <td>0.000000e+00</td>\n",
              "    </tr>\n",
              "    <tr>\n",
              "      <th>22</th>\n",
              "      <td>targtype1</td>\n",
              "      <td>99.569756</td>\n",
              "      <td>0.000000e+00</td>\n",
              "    </tr>\n",
              "    <tr>\n",
              "      <th>23</th>\n",
              "      <td>targtype1_txt</td>\n",
              "      <td>99.569756</td>\n",
              "      <td>0.000000e+00</td>\n",
              "    </tr>\n",
              "    <tr>\n",
              "      <th>24</th>\n",
              "      <td>natlty1</td>\n",
              "      <td>99.569756</td>\n",
              "      <td>0.000000e+00</td>\n",
              "    </tr>\n",
              "    <tr>\n",
              "      <th>25</th>\n",
              "      <td>natlty1_txt</td>\n",
              "      <td>99.569756</td>\n",
              "      <td>0.000000e+00</td>\n",
              "    </tr>\n",
              "    <tr>\n",
              "      <th>26</th>\n",
              "      <td>individual</td>\n",
              "      <td>99.569756</td>\n",
              "      <td>2.094948e-03</td>\n",
              "    </tr>\n",
              "    <tr>\n",
              "      <th>27</th>\n",
              "      <td>gname</td>\n",
              "      <td>99.569756</td>\n",
              "      <td>0.000000e+00</td>\n",
              "    </tr>\n",
              "    <tr>\n",
              "      <th>28</th>\n",
              "      <td>claimed</td>\n",
              "      <td>99.569756</td>\n",
              "      <td>1.732522e-45</td>\n",
              "    </tr>\n",
              "    <tr>\n",
              "      <th>29</th>\n",
              "      <td>property</td>\n",
              "      <td>99.569756</td>\n",
              "      <td>2.593456e-56</td>\n",
              "    </tr>\n",
              "    <tr>\n",
              "      <th>30</th>\n",
              "      <td>INT_IDEO</td>\n",
              "      <td>99.569756</td>\n",
              "      <td>1.893744e-23</td>\n",
              "    </tr>\n",
              "  </tbody>\n",
              "</table>\n",
              "</div>"
            ],
            "text/plain": [
              "           col_name   chi_stat         p_vals\n",
              "0           eventid  99.569756   4.988526e-01\n",
              "1             iyear  99.569756   0.000000e+00\n",
              "2            imonth  99.569756   1.067818e-03\n",
              "3              iday  99.569756   5.517781e-04\n",
              "4          extended  99.569756   1.249763e-52\n",
              "5           related  99.569756   0.000000e+00\n",
              "6             crit1  99.569756   0.000000e+00\n",
              "7             crit2  99.569756   0.000000e+00\n",
              "8             crit3  99.569756   0.000000e+00\n",
              "9          multiple  99.569756  2.334324e-169\n",
              "10          country  99.569756   0.000000e+00\n",
              "11      country_txt  99.569756   0.000000e+00\n",
              "12           region  99.569756   0.000000e+00\n",
              "13       region_txt  99.569756   0.000000e+00\n",
              "14             city  99.569756   0.000000e+00\n",
              "15      specificity  99.569756  3.595438e-159\n",
              "16      attacktype1  99.569756   0.000000e+00\n",
              "17  attacktype1_txt  99.569756   0.000000e+00\n",
              "18          success  99.569756   2.675940e-31\n",
              "19          suicide  99.569756   3.574625e-06\n",
              "20        weaptype1  99.569756   0.000000e+00\n",
              "21    weaptype1_txt  99.569756   0.000000e+00\n",
              "22        targtype1  99.569756   0.000000e+00\n",
              "23    targtype1_txt  99.569756   0.000000e+00\n",
              "24          natlty1  99.569756   0.000000e+00\n",
              "25      natlty1_txt  99.569756   0.000000e+00\n",
              "26       individual  99.569756   2.094948e-03\n",
              "27            gname  99.569756   0.000000e+00\n",
              "28          claimed  99.569756   1.732522e-45\n",
              "29         property  99.569756   2.593456e-56\n",
              "30         INT_IDEO  99.569756   1.893744e-23"
            ]
          },
          "metadata": {
            "tags": []
          },
          "execution_count": 325
        }
      ]
    },
    {
      "cell_type": "code",
      "metadata": {
        "id": "4RM28Gxfd6nw",
        "colab_type": "code",
        "colab": {
          "base_uri": "https://localhost:8080/",
          "height": 935
        },
        "outputId": "b09f313e-a754-4720-bcc1-9844cb33549a"
      },
      "source": [
        "cat_pval.drop(index = cat_pval.index[cat_pval['p_vals']>0.05], axis=0, inplace=True)\n",
        "cat_pval"
      ],
      "execution_count": 326,
      "outputs": [
        {
          "output_type": "execute_result",
          "data": {
            "text/html": [
              "<div>\n",
              "<style scoped>\n",
              "    .dataframe tbody tr th:only-of-type {\n",
              "        vertical-align: middle;\n",
              "    }\n",
              "\n",
              "    .dataframe tbody tr th {\n",
              "        vertical-align: top;\n",
              "    }\n",
              "\n",
              "    .dataframe thead th {\n",
              "        text-align: right;\n",
              "    }\n",
              "</style>\n",
              "<table border=\"1\" class=\"dataframe\">\n",
              "  <thead>\n",
              "    <tr style=\"text-align: right;\">\n",
              "      <th></th>\n",
              "      <th>col_name</th>\n",
              "      <th>chi_stat</th>\n",
              "      <th>p_vals</th>\n",
              "    </tr>\n",
              "  </thead>\n",
              "  <tbody>\n",
              "    <tr>\n",
              "      <th>1</th>\n",
              "      <td>iyear</td>\n",
              "      <td>99.569756</td>\n",
              "      <td>0.000000e+00</td>\n",
              "    </tr>\n",
              "    <tr>\n",
              "      <th>2</th>\n",
              "      <td>imonth</td>\n",
              "      <td>99.569756</td>\n",
              "      <td>1.067818e-03</td>\n",
              "    </tr>\n",
              "    <tr>\n",
              "      <th>3</th>\n",
              "      <td>iday</td>\n",
              "      <td>99.569756</td>\n",
              "      <td>5.517781e-04</td>\n",
              "    </tr>\n",
              "    <tr>\n",
              "      <th>4</th>\n",
              "      <td>extended</td>\n",
              "      <td>99.569756</td>\n",
              "      <td>1.249763e-52</td>\n",
              "    </tr>\n",
              "    <tr>\n",
              "      <th>5</th>\n",
              "      <td>related</td>\n",
              "      <td>99.569756</td>\n",
              "      <td>0.000000e+00</td>\n",
              "    </tr>\n",
              "    <tr>\n",
              "      <th>6</th>\n",
              "      <td>crit1</td>\n",
              "      <td>99.569756</td>\n",
              "      <td>0.000000e+00</td>\n",
              "    </tr>\n",
              "    <tr>\n",
              "      <th>7</th>\n",
              "      <td>crit2</td>\n",
              "      <td>99.569756</td>\n",
              "      <td>0.000000e+00</td>\n",
              "    </tr>\n",
              "    <tr>\n",
              "      <th>8</th>\n",
              "      <td>crit3</td>\n",
              "      <td>99.569756</td>\n",
              "      <td>0.000000e+00</td>\n",
              "    </tr>\n",
              "    <tr>\n",
              "      <th>9</th>\n",
              "      <td>multiple</td>\n",
              "      <td>99.569756</td>\n",
              "      <td>2.334324e-169</td>\n",
              "    </tr>\n",
              "    <tr>\n",
              "      <th>10</th>\n",
              "      <td>country</td>\n",
              "      <td>99.569756</td>\n",
              "      <td>0.000000e+00</td>\n",
              "    </tr>\n",
              "    <tr>\n",
              "      <th>11</th>\n",
              "      <td>country_txt</td>\n",
              "      <td>99.569756</td>\n",
              "      <td>0.000000e+00</td>\n",
              "    </tr>\n",
              "    <tr>\n",
              "      <th>12</th>\n",
              "      <td>region</td>\n",
              "      <td>99.569756</td>\n",
              "      <td>0.000000e+00</td>\n",
              "    </tr>\n",
              "    <tr>\n",
              "      <th>13</th>\n",
              "      <td>region_txt</td>\n",
              "      <td>99.569756</td>\n",
              "      <td>0.000000e+00</td>\n",
              "    </tr>\n",
              "    <tr>\n",
              "      <th>14</th>\n",
              "      <td>city</td>\n",
              "      <td>99.569756</td>\n",
              "      <td>0.000000e+00</td>\n",
              "    </tr>\n",
              "    <tr>\n",
              "      <th>15</th>\n",
              "      <td>specificity</td>\n",
              "      <td>99.569756</td>\n",
              "      <td>3.595438e-159</td>\n",
              "    </tr>\n",
              "    <tr>\n",
              "      <th>16</th>\n",
              "      <td>attacktype1</td>\n",
              "      <td>99.569756</td>\n",
              "      <td>0.000000e+00</td>\n",
              "    </tr>\n",
              "    <tr>\n",
              "      <th>17</th>\n",
              "      <td>attacktype1_txt</td>\n",
              "      <td>99.569756</td>\n",
              "      <td>0.000000e+00</td>\n",
              "    </tr>\n",
              "    <tr>\n",
              "      <th>18</th>\n",
              "      <td>success</td>\n",
              "      <td>99.569756</td>\n",
              "      <td>2.675940e-31</td>\n",
              "    </tr>\n",
              "    <tr>\n",
              "      <th>19</th>\n",
              "      <td>suicide</td>\n",
              "      <td>99.569756</td>\n",
              "      <td>3.574625e-06</td>\n",
              "    </tr>\n",
              "    <tr>\n",
              "      <th>20</th>\n",
              "      <td>weaptype1</td>\n",
              "      <td>99.569756</td>\n",
              "      <td>0.000000e+00</td>\n",
              "    </tr>\n",
              "    <tr>\n",
              "      <th>21</th>\n",
              "      <td>weaptype1_txt</td>\n",
              "      <td>99.569756</td>\n",
              "      <td>0.000000e+00</td>\n",
              "    </tr>\n",
              "    <tr>\n",
              "      <th>22</th>\n",
              "      <td>targtype1</td>\n",
              "      <td>99.569756</td>\n",
              "      <td>0.000000e+00</td>\n",
              "    </tr>\n",
              "    <tr>\n",
              "      <th>23</th>\n",
              "      <td>targtype1_txt</td>\n",
              "      <td>99.569756</td>\n",
              "      <td>0.000000e+00</td>\n",
              "    </tr>\n",
              "    <tr>\n",
              "      <th>24</th>\n",
              "      <td>natlty1</td>\n",
              "      <td>99.569756</td>\n",
              "      <td>0.000000e+00</td>\n",
              "    </tr>\n",
              "    <tr>\n",
              "      <th>25</th>\n",
              "      <td>natlty1_txt</td>\n",
              "      <td>99.569756</td>\n",
              "      <td>0.000000e+00</td>\n",
              "    </tr>\n",
              "    <tr>\n",
              "      <th>26</th>\n",
              "      <td>individual</td>\n",
              "      <td>99.569756</td>\n",
              "      <td>2.094948e-03</td>\n",
              "    </tr>\n",
              "    <tr>\n",
              "      <th>27</th>\n",
              "      <td>gname</td>\n",
              "      <td>99.569756</td>\n",
              "      <td>0.000000e+00</td>\n",
              "    </tr>\n",
              "    <tr>\n",
              "      <th>28</th>\n",
              "      <td>claimed</td>\n",
              "      <td>99.569756</td>\n",
              "      <td>1.732522e-45</td>\n",
              "    </tr>\n",
              "    <tr>\n",
              "      <th>29</th>\n",
              "      <td>property</td>\n",
              "      <td>99.569756</td>\n",
              "      <td>2.593456e-56</td>\n",
              "    </tr>\n",
              "    <tr>\n",
              "      <th>30</th>\n",
              "      <td>INT_IDEO</td>\n",
              "      <td>99.569756</td>\n",
              "      <td>1.893744e-23</td>\n",
              "    </tr>\n",
              "  </tbody>\n",
              "</table>\n",
              "</div>"
            ],
            "text/plain": [
              "           col_name   chi_stat         p_vals\n",
              "1             iyear  99.569756   0.000000e+00\n",
              "2            imonth  99.569756   1.067818e-03\n",
              "3              iday  99.569756   5.517781e-04\n",
              "4          extended  99.569756   1.249763e-52\n",
              "5           related  99.569756   0.000000e+00\n",
              "6             crit1  99.569756   0.000000e+00\n",
              "7             crit2  99.569756   0.000000e+00\n",
              "8             crit3  99.569756   0.000000e+00\n",
              "9          multiple  99.569756  2.334324e-169\n",
              "10          country  99.569756   0.000000e+00\n",
              "11      country_txt  99.569756   0.000000e+00\n",
              "12           region  99.569756   0.000000e+00\n",
              "13       region_txt  99.569756   0.000000e+00\n",
              "14             city  99.569756   0.000000e+00\n",
              "15      specificity  99.569756  3.595438e-159\n",
              "16      attacktype1  99.569756   0.000000e+00\n",
              "17  attacktype1_txt  99.569756   0.000000e+00\n",
              "18          success  99.569756   2.675940e-31\n",
              "19          suicide  99.569756   3.574625e-06\n",
              "20        weaptype1  99.569756   0.000000e+00\n",
              "21    weaptype1_txt  99.569756   0.000000e+00\n",
              "22        targtype1  99.569756   0.000000e+00\n",
              "23    targtype1_txt  99.569756   0.000000e+00\n",
              "24          natlty1  99.569756   0.000000e+00\n",
              "25      natlty1_txt  99.569756   0.000000e+00\n",
              "26       individual  99.569756   2.094948e-03\n",
              "27            gname  99.569756   0.000000e+00\n",
              "28          claimed  99.569756   1.732522e-45\n",
              "29         property  99.569756   2.593456e-56\n",
              "30         INT_IDEO  99.569756   1.893744e-23"
            ]
          },
          "metadata": {
            "tags": []
          },
          "execution_count": 326
        }
      ]
    },
    {
      "cell_type": "code",
      "metadata": {
        "id": "80GzxJr1eiP3",
        "colab_type": "code",
        "colab": {}
      },
      "source": [
        ""
      ],
      "execution_count": null,
      "outputs": []
    },
    {
      "cell_type": "markdown",
      "metadata": {
        "id": "sW1SWG64e4tX",
        "colab_type": "text"
      },
      "source": [
        "NUM (vs) CAT"
      ]
    },
    {
      "cell_type": "code",
      "metadata": {
        "id": "JW8Cfg8ugiVo",
        "colab_type": "code",
        "colab": {
          "base_uri": "https://localhost:8080/",
          "height": 218
        },
        "outputId": "b975eeb6-a012-47db-e37a-16ac858e37eb"
      },
      "source": [
        "num_cols"
      ],
      "execution_count": 327,
      "outputs": [
        {
          "output_type": "execute_result",
          "data": {
            "text/plain": [
              "['latitude',\n",
              " 'longitude',\n",
              " 'nperps',\n",
              " 'nperpcap',\n",
              " 'nkill',\n",
              " 'nkillter',\n",
              " 'nwound',\n",
              " 'nwoundte',\n",
              " 'propvalue',\n",
              " 'nhostkid',\n",
              " 'ransomamt',\n",
              " 'ransompaid']"
            ]
          },
          "metadata": {
            "tags": []
          },
          "execution_count": 327
        }
      ]
    },
    {
      "cell_type": "code",
      "metadata": {
        "id": "VkZsJTvXj5Tc",
        "colab_type": "code",
        "colab": {
          "base_uri": "https://localhost:8080/",
          "height": 34
        },
        "outputId": "eb69557e-ada2-47e1-e760-e6c152069427"
      },
      "source": [
        "td1['nkill'].isnull().sum()"
      ],
      "execution_count": 332,
      "outputs": [
        {
          "output_type": "execute_result",
          "data": {
            "text/plain": [
              "9120"
            ]
          },
          "metadata": {
            "tags": []
          },
          "execution_count": 332
        }
      ]
    },
    {
      "cell_type": "code",
      "metadata": {
        "id": "kC8KaJl3e-jO",
        "colab_type": "code",
        "colab": {
          "base_uri": "https://localhost:8080/",
          "height": 101
        },
        "outputId": "44eea706-fe06-4180-b9d2-ea539b50a7be"
      },
      "source": [
        "from scipy.stats import shapiro,bartlett,mannwhitneyu,f_oneway, ttest_ind\n",
        "MG=td1.groupby('doubtterr')\n",
        "g_0=MG.get_group(0)\n",
        "g_1=MG.get_group(1)\n",
        "grp_1=g_0['nkill']\n",
        "grp_2=g_1['nkill']\n",
        "\n",
        "print(shapiro(grp_1), shapiro(grp_2))\n",
        "\n",
        "print(bartlett(grp_1, grp_2))\n",
        "print(mannwhitneyu(grp_1, grp_2))\n",
        "print(f_oneway(grp_1, grp_2))\n",
        "\n",
        "print(ttest_ind(grp_1, grp_2))\n"
      ],
      "execution_count": 344,
      "outputs": [
        {
          "output_type": "stream",
          "text": [
            "(nan, 1.0) (nan, 1.0)\n",
            "BartlettResult(statistic=8521.045794907646, pvalue=0.0)\n",
            "MannwhitneyuResult(statistic=1604894037.0, pvalue=0.0)\n",
            "F_onewayResult(statistic=nan, pvalue=nan)\n",
            "Ttest_indResult(statistic=nan, pvalue=nan)\n"
          ],
          "name": "stdout"
        }
      ]
    },
    {
      "cell_type": "code",
      "metadata": {
        "id": "sRjmlsSofAf5",
        "colab_type": "code",
        "colab": {}
      },
      "source": [
        "num_pval = pd.DataFrame({})\n",
        "shap_grp1 = []\n",
        "shap_grp2 = []\n",
        "num_col_name = []\n",
        "barlett_stat = []\n",
        "manwhit_stat = []\n",
        "anova_stats = []\n",
        "ttest_stats = []\n",
        "barlett_p_values = []\n",
        "manwhit_p_values = []\n",
        "anova_p_values = []\n",
        "ttest_p_values = []"
      ],
      "execution_count": 347,
      "outputs": []
    },
    {
      "cell_type": "code",
      "metadata": {
        "id": "chG8i3dPloVA",
        "colab_type": "code",
        "colab": {
          "base_uri": "https://localhost:8080/",
          "height": 350
        },
        "outputId": "9d8c1e4a-3db0-4cee-ed18-cef762fb021e"
      },
      "source": [
        "MG=td1.groupby('doubtterr')\n",
        "g_0=MG.get_group(0)\n",
        "g_1=MG.get_group(1)\n",
        "\n",
        "g_0.head()"
      ],
      "execution_count": 339,
      "outputs": [
        {
          "output_type": "execute_result",
          "data": {
            "text/html": [
              "<div>\n",
              "<style scoped>\n",
              "    .dataframe tbody tr th:only-of-type {\n",
              "        vertical-align: middle;\n",
              "    }\n",
              "\n",
              "    .dataframe tbody tr th {\n",
              "        vertical-align: top;\n",
              "    }\n",
              "\n",
              "    .dataframe thead th {\n",
              "        text-align: right;\n",
              "    }\n",
              "</style>\n",
              "<table border=\"1\" class=\"dataframe\">\n",
              "  <thead>\n",
              "    <tr style=\"text-align: right;\">\n",
              "      <th></th>\n",
              "      <th>eventid</th>\n",
              "      <th>iyear</th>\n",
              "      <th>imonth</th>\n",
              "      <th>iday</th>\n",
              "      <th>extended</th>\n",
              "      <th>crit1</th>\n",
              "      <th>crit2</th>\n",
              "      <th>crit3</th>\n",
              "      <th>multiple</th>\n",
              "      <th>country</th>\n",
              "      <th>country_txt</th>\n",
              "      <th>region</th>\n",
              "      <th>region_txt</th>\n",
              "      <th>city</th>\n",
              "      <th>specificity</th>\n",
              "      <th>attacktype1</th>\n",
              "      <th>attacktype1_txt</th>\n",
              "      <th>success</th>\n",
              "      <th>suicide</th>\n",
              "      <th>weaptype1</th>\n",
              "      <th>weaptype1_txt</th>\n",
              "      <th>targtype1</th>\n",
              "      <th>targtype1_txt</th>\n",
              "      <th>natlty1</th>\n",
              "      <th>natlty1_txt</th>\n",
              "      <th>individual</th>\n",
              "      <th>gname</th>\n",
              "      <th>claimed</th>\n",
              "      <th>property</th>\n",
              "      <th>INT_IDEO</th>\n",
              "      <th>doubtterr</th>\n",
              "      <th>alternative_txt</th>\n",
              "      <th>related</th>\n",
              "      <th>latitude</th>\n",
              "      <th>longitude</th>\n",
              "      <th>nperps</th>\n",
              "      <th>nperpcap</th>\n",
              "      <th>nkill</th>\n",
              "      <th>nkillter</th>\n",
              "      <th>nwound</th>\n",
              "      <th>nwoundte</th>\n",
              "      <th>propvalue</th>\n",
              "      <th>nhostkid</th>\n",
              "      <th>ransomamt</th>\n",
              "      <th>ransompaid</th>\n",
              "      <th>related_count</th>\n",
              "    </tr>\n",
              "  </thead>\n",
              "  <tbody>\n",
              "    <tr>\n",
              "      <th>0</th>\n",
              "      <td>197000000001</td>\n",
              "      <td>1970</td>\n",
              "      <td>7</td>\n",
              "      <td>2</td>\n",
              "      <td>0</td>\n",
              "      <td>1</td>\n",
              "      <td>1</td>\n",
              "      <td>1</td>\n",
              "      <td>0.0</td>\n",
              "      <td>58</td>\n",
              "      <td>Dominican Republic</td>\n",
              "      <td>2</td>\n",
              "      <td>Central America &amp; Caribbean</td>\n",
              "      <td>Santo Domingo</td>\n",
              "      <td>1.0</td>\n",
              "      <td>1</td>\n",
              "      <td>Assassination</td>\n",
              "      <td>1</td>\n",
              "      <td>0</td>\n",
              "      <td>13</td>\n",
              "      <td>Unknown</td>\n",
              "      <td>14</td>\n",
              "      <td>Private Citizens &amp; Property</td>\n",
              "      <td>58.0</td>\n",
              "      <td>Dominican Republic</td>\n",
              "      <td>0</td>\n",
              "      <td>MANO-D</td>\n",
              "      <td>NaN</td>\n",
              "      <td>0</td>\n",
              "      <td>0</td>\n",
              "      <td>0.0</td>\n",
              "      <td>NaN</td>\n",
              "      <td>NaN</td>\n",
              "      <td>18.456792</td>\n",
              "      <td>-69.951164</td>\n",
              "      <td>NaN</td>\n",
              "      <td>NaN</td>\n",
              "      <td>1.0</td>\n",
              "      <td>NaN</td>\n",
              "      <td>0.0</td>\n",
              "      <td>NaN</td>\n",
              "      <td>NaN</td>\n",
              "      <td>NaN</td>\n",
              "      <td>NaN</td>\n",
              "      <td>NaN</td>\n",
              "      <td>0</td>\n",
              "    </tr>\n",
              "    <tr>\n",
              "      <th>1</th>\n",
              "      <td>197000000002</td>\n",
              "      <td>1970</td>\n",
              "      <td>0</td>\n",
              "      <td>NaN</td>\n",
              "      <td>0</td>\n",
              "      <td>1</td>\n",
              "      <td>1</td>\n",
              "      <td>1</td>\n",
              "      <td>0.0</td>\n",
              "      <td>130</td>\n",
              "      <td>Mexico</td>\n",
              "      <td>1</td>\n",
              "      <td>North America</td>\n",
              "      <td>Mexico city</td>\n",
              "      <td>1.0</td>\n",
              "      <td>6</td>\n",
              "      <td>Hostage Taking (Kidnapping)</td>\n",
              "      <td>1</td>\n",
              "      <td>0</td>\n",
              "      <td>13</td>\n",
              "      <td>Unknown</td>\n",
              "      <td>7</td>\n",
              "      <td>Government (Diplomatic)</td>\n",
              "      <td>21.0</td>\n",
              "      <td>Belgium</td>\n",
              "      <td>0</td>\n",
              "      <td>23rd of September Communist League</td>\n",
              "      <td>NaN</td>\n",
              "      <td>0</td>\n",
              "      <td>1</td>\n",
              "      <td>0.0</td>\n",
              "      <td>NaN</td>\n",
              "      <td>NaN</td>\n",
              "      <td>19.371887</td>\n",
              "      <td>-99.086624</td>\n",
              "      <td>7.0</td>\n",
              "      <td>NaN</td>\n",
              "      <td>0.0</td>\n",
              "      <td>NaN</td>\n",
              "      <td>0.0</td>\n",
              "      <td>NaN</td>\n",
              "      <td>NaN</td>\n",
              "      <td>1.0</td>\n",
              "      <td>800000.0</td>\n",
              "      <td>NaN</td>\n",
              "      <td>0</td>\n",
              "    </tr>\n",
              "    <tr>\n",
              "      <th>2</th>\n",
              "      <td>197001000001</td>\n",
              "      <td>1970</td>\n",
              "      <td>1</td>\n",
              "      <td>NaN</td>\n",
              "      <td>0</td>\n",
              "      <td>1</td>\n",
              "      <td>1</td>\n",
              "      <td>1</td>\n",
              "      <td>0.0</td>\n",
              "      <td>160</td>\n",
              "      <td>Philippines</td>\n",
              "      <td>5</td>\n",
              "      <td>Southeast Asia</td>\n",
              "      <td>Unknown</td>\n",
              "      <td>4.0</td>\n",
              "      <td>1</td>\n",
              "      <td>Assassination</td>\n",
              "      <td>1</td>\n",
              "      <td>0</td>\n",
              "      <td>13</td>\n",
              "      <td>Unknown</td>\n",
              "      <td>10</td>\n",
              "      <td>Journalists &amp; Media</td>\n",
              "      <td>217.0</td>\n",
              "      <td>United States</td>\n",
              "      <td>0</td>\n",
              "      <td>Unknown</td>\n",
              "      <td>NaN</td>\n",
              "      <td>0</td>\n",
              "      <td>NaN</td>\n",
              "      <td>0.0</td>\n",
              "      <td>NaN</td>\n",
              "      <td>NaN</td>\n",
              "      <td>15.478598</td>\n",
              "      <td>120.599741</td>\n",
              "      <td>NaN</td>\n",
              "      <td>NaN</td>\n",
              "      <td>1.0</td>\n",
              "      <td>NaN</td>\n",
              "      <td>0.0</td>\n",
              "      <td>NaN</td>\n",
              "      <td>NaN</td>\n",
              "      <td>NaN</td>\n",
              "      <td>NaN</td>\n",
              "      <td>NaN</td>\n",
              "      <td>0</td>\n",
              "    </tr>\n",
              "    <tr>\n",
              "      <th>3</th>\n",
              "      <td>197001000002</td>\n",
              "      <td>1970</td>\n",
              "      <td>1</td>\n",
              "      <td>NaN</td>\n",
              "      <td>0</td>\n",
              "      <td>1</td>\n",
              "      <td>1</td>\n",
              "      <td>1</td>\n",
              "      <td>0.0</td>\n",
              "      <td>78</td>\n",
              "      <td>Greece</td>\n",
              "      <td>8</td>\n",
              "      <td>Western Europe</td>\n",
              "      <td>Athens</td>\n",
              "      <td>1.0</td>\n",
              "      <td>3</td>\n",
              "      <td>Bombing/Explosion</td>\n",
              "      <td>1</td>\n",
              "      <td>0</td>\n",
              "      <td>6</td>\n",
              "      <td>Explosives</td>\n",
              "      <td>7</td>\n",
              "      <td>Government (Diplomatic)</td>\n",
              "      <td>217.0</td>\n",
              "      <td>United States</td>\n",
              "      <td>0</td>\n",
              "      <td>Unknown</td>\n",
              "      <td>NaN</td>\n",
              "      <td>1</td>\n",
              "      <td>NaN</td>\n",
              "      <td>0.0</td>\n",
              "      <td>NaN</td>\n",
              "      <td>NaN</td>\n",
              "      <td>37.997490</td>\n",
              "      <td>23.762728</td>\n",
              "      <td>NaN</td>\n",
              "      <td>NaN</td>\n",
              "      <td>NaN</td>\n",
              "      <td>NaN</td>\n",
              "      <td>NaN</td>\n",
              "      <td>NaN</td>\n",
              "      <td>NaN</td>\n",
              "      <td>NaN</td>\n",
              "      <td>NaN</td>\n",
              "      <td>NaN</td>\n",
              "      <td>0</td>\n",
              "    </tr>\n",
              "    <tr>\n",
              "      <th>5</th>\n",
              "      <td>197001010002</td>\n",
              "      <td>1970</td>\n",
              "      <td>1</td>\n",
              "      <td>1</td>\n",
              "      <td>0</td>\n",
              "      <td>1</td>\n",
              "      <td>1</td>\n",
              "      <td>1</td>\n",
              "      <td>0.0</td>\n",
              "      <td>217</td>\n",
              "      <td>United States</td>\n",
              "      <td>1</td>\n",
              "      <td>North America</td>\n",
              "      <td>Cairo</td>\n",
              "      <td>1.0</td>\n",
              "      <td>2</td>\n",
              "      <td>Armed Assault</td>\n",
              "      <td>1</td>\n",
              "      <td>0</td>\n",
              "      <td>5</td>\n",
              "      <td>Firearms</td>\n",
              "      <td>3</td>\n",
              "      <td>Police</td>\n",
              "      <td>217.0</td>\n",
              "      <td>United States</td>\n",
              "      <td>0</td>\n",
              "      <td>Black Nationalists</td>\n",
              "      <td>0.0</td>\n",
              "      <td>1</td>\n",
              "      <td>NaN</td>\n",
              "      <td>0.0</td>\n",
              "      <td>NaN</td>\n",
              "      <td>NaN</td>\n",
              "      <td>37.005105</td>\n",
              "      <td>-89.176269</td>\n",
              "      <td>NaN</td>\n",
              "      <td>-99.0</td>\n",
              "      <td>0.0</td>\n",
              "      <td>0.0</td>\n",
              "      <td>0.0</td>\n",
              "      <td>0.0</td>\n",
              "      <td>NaN</td>\n",
              "      <td>NaN</td>\n",
              "      <td>NaN</td>\n",
              "      <td>NaN</td>\n",
              "      <td>0</td>\n",
              "    </tr>\n",
              "  </tbody>\n",
              "</table>\n",
              "</div>"
            ],
            "text/plain": [
              "        eventid iyear imonth  ... ransomamt ransompaid related_count\n",
              "0  197000000001  1970      7  ...       NaN        NaN             0\n",
              "1  197000000002  1970      0  ...  800000.0        NaN             0\n",
              "2  197001000001  1970      1  ...       NaN        NaN             0\n",
              "3  197001000002  1970      1  ...       NaN        NaN             0\n",
              "5  197001010002  1970      1  ...       NaN        NaN             0\n",
              "\n",
              "[5 rows x 46 columns]"
            ]
          },
          "metadata": {
            "tags": []
          },
          "execution_count": 339
        }
      ]
    },
    {
      "cell_type": "code",
      "metadata": {
        "id": "ag0GlPyplc2S",
        "colab_type": "code",
        "colab": {}
      },
      "source": [
        "for each in num_cols:\n",
        "  grp_1=g_0[each]\n",
        "  grp_2=g_1[each]\n",
        "\n",
        "  g1_shap_stat, g1_shap_p = shapiro(grp_1)\n",
        "  g2_shap_stat, g2_shap_p = shapiro(grp_2)\n",
        "  barr_stat, barr_p = bartlett(grp_1, grp_2)\n",
        "  manw_stat, manw_p = mannwhitneyu(grp_1, grp_2)\n",
        "  anova_stat, anova_p = f_oneway(grp_1, grp_2)\n",
        "  ttest_stat, ttest_p = ttest_ind(grp_1, grp_2)\n",
        "\n",
        "  shap_grp1.append(g1_shap_p)\n",
        "  shap_grp2.append(g2_shap_p)\n",
        "  num_col_name.append(each)\n",
        "  barlett_stat.append(barr_stat)\n",
        "  manwhit_stat.append(manw_stat)\n",
        "  anova_stats.append(anova_stat)\n",
        "  ttest_stats.append(ttest_stat)\n",
        "  barlett_p_values.append(barr_p)\n",
        "  manwhit_p_values.append(manw_p)\n",
        "  anova_p_values.append(anova_p)\n",
        "  ttest_p_values.append(ttest_p)"
      ],
      "execution_count": 348,
      "outputs": []
    },
    {
      "cell_type": "code",
      "metadata": {
        "id": "lyfYfS_3ogHY",
        "colab_type": "code",
        "colab": {
          "base_uri": "https://localhost:8080/",
          "height": 402
        },
        "outputId": "bc2571aa-9a58-4c75-da01-192021a42c0a"
      },
      "source": [
        "num_pval['shap_grp1'] = shap_grp1\n",
        "num_pval['shap_grp2'] = shap_grp2\n",
        "num_pval['num_col_name'] = num_col_name\n",
        "num_pval['barlett_stat'] = barlett_stat\n",
        "num_pval['manwhit_stat'] = manwhit_stat\n",
        "num_pval['anova_stat'] = anova_stat\n",
        "num_pval['ttest_stat'] = ttest_stat\n",
        "num_pval['barlett_p_values'] = barlett_p_values\n",
        "num_pval['manwhit_p_values'] = manwhit_p_values\n",
        "num_pval['anova_p_values'] = anova_p_values\n",
        "num_pval['ttest_p_values'] = ttest_p_values\n",
        "\n",
        "num_pval"
      ],
      "execution_count": 349,
      "outputs": [
        {
          "output_type": "execute_result",
          "data": {
            "text/html": [
              "<div>\n",
              "<style scoped>\n",
              "    .dataframe tbody tr th:only-of-type {\n",
              "        vertical-align: middle;\n",
              "    }\n",
              "\n",
              "    .dataframe tbody tr th {\n",
              "        vertical-align: top;\n",
              "    }\n",
              "\n",
              "    .dataframe thead th {\n",
              "        text-align: right;\n",
              "    }\n",
              "</style>\n",
              "<table border=\"1\" class=\"dataframe\">\n",
              "  <thead>\n",
              "    <tr style=\"text-align: right;\">\n",
              "      <th></th>\n",
              "      <th>shap_grp1</th>\n",
              "      <th>shap_grp2</th>\n",
              "      <th>num_col_name</th>\n",
              "      <th>barlett_stat</th>\n",
              "      <th>manwhit_stat</th>\n",
              "      <th>anova_stat</th>\n",
              "      <th>ttest_stat</th>\n",
              "      <th>barlett_p_values</th>\n",
              "      <th>manwhit_p_values</th>\n",
              "      <th>anova_p_values</th>\n",
              "      <th>ttest_p_values</th>\n",
              "    </tr>\n",
              "  </thead>\n",
              "  <tbody>\n",
              "    <tr>\n",
              "      <th>0</th>\n",
              "      <td>1.0</td>\n",
              "      <td>1.0</td>\n",
              "      <td>latitude</td>\n",
              "      <td>330.246667</td>\n",
              "      <td>2.008968e+09</td>\n",
              "      <td>NaN</td>\n",
              "      <td>NaN</td>\n",
              "      <td>8.493039e-74</td>\n",
              "      <td>2.432580e-01</td>\n",
              "      <td>NaN</td>\n",
              "      <td>NaN</td>\n",
              "    </tr>\n",
              "    <tr>\n",
              "      <th>1</th>\n",
              "      <td>1.0</td>\n",
              "      <td>1.0</td>\n",
              "      <td>longitude</td>\n",
              "      <td>180.537671</td>\n",
              "      <td>1.951497e+09</td>\n",
              "      <td>NaN</td>\n",
              "      <td>NaN</td>\n",
              "      <td>3.698502e-41</td>\n",
              "      <td>3.378822e-17</td>\n",
              "      <td>NaN</td>\n",
              "      <td>NaN</td>\n",
              "    </tr>\n",
              "    <tr>\n",
              "      <th>2</th>\n",
              "      <td>1.0</td>\n",
              "      <td>1.0</td>\n",
              "      <td>nperps</td>\n",
              "      <td>37011.573093</td>\n",
              "      <td>1.309331e+09</td>\n",
              "      <td>NaN</td>\n",
              "      <td>NaN</td>\n",
              "      <td>0.000000e+00</td>\n",
              "      <td>0.000000e+00</td>\n",
              "      <td>NaN</td>\n",
              "      <td>NaN</td>\n",
              "    </tr>\n",
              "    <tr>\n",
              "      <th>3</th>\n",
              "      <td>1.0</td>\n",
              "      <td>1.0</td>\n",
              "      <td>nperpcap</td>\n",
              "      <td>233.210725</td>\n",
              "      <td>1.915005e+09</td>\n",
              "      <td>NaN</td>\n",
              "      <td>NaN</td>\n",
              "      <td>1.188934e-52</td>\n",
              "      <td>4.967254e-53</td>\n",
              "      <td>NaN</td>\n",
              "      <td>NaN</td>\n",
              "    </tr>\n",
              "    <tr>\n",
              "      <th>4</th>\n",
              "      <td>1.0</td>\n",
              "      <td>1.0</td>\n",
              "      <td>nkill</td>\n",
              "      <td>8521.045795</td>\n",
              "      <td>1.604894e+09</td>\n",
              "      <td>NaN</td>\n",
              "      <td>NaN</td>\n",
              "      <td>0.000000e+00</td>\n",
              "      <td>0.000000e+00</td>\n",
              "      <td>NaN</td>\n",
              "      <td>NaN</td>\n",
              "    </tr>\n",
              "    <tr>\n",
              "      <th>5</th>\n",
              "      <td>1.0</td>\n",
              "      <td>1.0</td>\n",
              "      <td>nkillter</td>\n",
              "      <td>29810.896950</td>\n",
              "      <td>1.995354e+09</td>\n",
              "      <td>NaN</td>\n",
              "      <td>NaN</td>\n",
              "      <td>0.000000e+00</td>\n",
              "      <td>2.255053e-03</td>\n",
              "      <td>NaN</td>\n",
              "      <td>NaN</td>\n",
              "    </tr>\n",
              "    <tr>\n",
              "      <th>6</th>\n",
              "      <td>1.0</td>\n",
              "      <td>1.0</td>\n",
              "      <td>nwound</td>\n",
              "      <td>56532.868985</td>\n",
              "      <td>1.838972e+09</td>\n",
              "      <td>NaN</td>\n",
              "      <td>NaN</td>\n",
              "      <td>0.000000e+00</td>\n",
              "      <td>1.513437e-145</td>\n",
              "      <td>NaN</td>\n",
              "      <td>NaN</td>\n",
              "    </tr>\n",
              "    <tr>\n",
              "      <th>7</th>\n",
              "      <td>1.0</td>\n",
              "      <td>1.0</td>\n",
              "      <td>nwoundte</td>\n",
              "      <td>25032.434771</td>\n",
              "      <td>1.995454e+09</td>\n",
              "      <td>NaN</td>\n",
              "      <td>NaN</td>\n",
              "      <td>0.000000e+00</td>\n",
              "      <td>1.635388e-03</td>\n",
              "      <td>NaN</td>\n",
              "      <td>NaN</td>\n",
              "    </tr>\n",
              "    <tr>\n",
              "      <th>8</th>\n",
              "      <td>1.0</td>\n",
              "      <td>1.0</td>\n",
              "      <td>propvalue</td>\n",
              "      <td>130457.666482</td>\n",
              "      <td>1.429819e+09</td>\n",
              "      <td>NaN</td>\n",
              "      <td>NaN</td>\n",
              "      <td>0.000000e+00</td>\n",
              "      <td>0.000000e+00</td>\n",
              "      <td>NaN</td>\n",
              "      <td>NaN</td>\n",
              "    </tr>\n",
              "    <tr>\n",
              "      <th>9</th>\n",
              "      <td>1.0</td>\n",
              "      <td>1.0</td>\n",
              "      <td>nhostkid</td>\n",
              "      <td>30367.228842</td>\n",
              "      <td>1.323619e+09</td>\n",
              "      <td>NaN</td>\n",
              "      <td>NaN</td>\n",
              "      <td>0.000000e+00</td>\n",
              "      <td>0.000000e+00</td>\n",
              "      <td>NaN</td>\n",
              "      <td>NaN</td>\n",
              "    </tr>\n",
              "    <tr>\n",
              "      <th>10</th>\n",
              "      <td>1.0</td>\n",
              "      <td>1.0</td>\n",
              "      <td>ransomamt</td>\n",
              "      <td>125750.919505</td>\n",
              "      <td>1.312285e+09</td>\n",
              "      <td>NaN</td>\n",
              "      <td>NaN</td>\n",
              "      <td>0.000000e+00</td>\n",
              "      <td>0.000000e+00</td>\n",
              "      <td>NaN</td>\n",
              "      <td>NaN</td>\n",
              "    </tr>\n",
              "    <tr>\n",
              "      <th>11</th>\n",
              "      <td>1.0</td>\n",
              "      <td>1.0</td>\n",
              "      <td>ransompaid</td>\n",
              "      <td>99492.323530</td>\n",
              "      <td>1.309425e+09</td>\n",
              "      <td>NaN</td>\n",
              "      <td>NaN</td>\n",
              "      <td>0.000000e+00</td>\n",
              "      <td>0.000000e+00</td>\n",
              "      <td>NaN</td>\n",
              "      <td>NaN</td>\n",
              "    </tr>\n",
              "  </tbody>\n",
              "</table>\n",
              "</div>"
            ],
            "text/plain": [
              "    shap_grp1  shap_grp2  ... anova_p_values  ttest_p_values\n",
              "0         1.0        1.0  ...            NaN             NaN\n",
              "1         1.0        1.0  ...            NaN             NaN\n",
              "2         1.0        1.0  ...            NaN             NaN\n",
              "3         1.0        1.0  ...            NaN             NaN\n",
              "4         1.0        1.0  ...            NaN             NaN\n",
              "5         1.0        1.0  ...            NaN             NaN\n",
              "6         1.0        1.0  ...            NaN             NaN\n",
              "7         1.0        1.0  ...            NaN             NaN\n",
              "8         1.0        1.0  ...            NaN             NaN\n",
              "9         1.0        1.0  ...            NaN             NaN\n",
              "10        1.0        1.0  ...            NaN             NaN\n",
              "11        1.0        1.0  ...            NaN             NaN\n",
              "\n",
              "[12 rows x 11 columns]"
            ]
          },
          "metadata": {
            "tags": []
          },
          "execution_count": 349
        }
      ]
    },
    {
      "cell_type": "code",
      "metadata": {
        "id": "AUnALO8bqL0x",
        "colab_type": "code",
        "colab": {
          "base_uri": "https://localhost:8080/",
          "height": 402
        },
        "outputId": "8a36b83c-552b-4f7f-93ec-66a0aa211f6c"
      },
      "source": [
        "num_pval[num_pval['barlett_p_values']<0.05]"
      ],
      "execution_count": 350,
      "outputs": [
        {
          "output_type": "execute_result",
          "data": {
            "text/html": [
              "<div>\n",
              "<style scoped>\n",
              "    .dataframe tbody tr th:only-of-type {\n",
              "        vertical-align: middle;\n",
              "    }\n",
              "\n",
              "    .dataframe tbody tr th {\n",
              "        vertical-align: top;\n",
              "    }\n",
              "\n",
              "    .dataframe thead th {\n",
              "        text-align: right;\n",
              "    }\n",
              "</style>\n",
              "<table border=\"1\" class=\"dataframe\">\n",
              "  <thead>\n",
              "    <tr style=\"text-align: right;\">\n",
              "      <th></th>\n",
              "      <th>shap_grp1</th>\n",
              "      <th>shap_grp2</th>\n",
              "      <th>num_col_name</th>\n",
              "      <th>barlett_stat</th>\n",
              "      <th>manwhit_stat</th>\n",
              "      <th>anova_stat</th>\n",
              "      <th>ttest_stat</th>\n",
              "      <th>barlett_p_values</th>\n",
              "      <th>manwhit_p_values</th>\n",
              "      <th>anova_p_values</th>\n",
              "      <th>ttest_p_values</th>\n",
              "    </tr>\n",
              "  </thead>\n",
              "  <tbody>\n",
              "    <tr>\n",
              "      <th>0</th>\n",
              "      <td>1.0</td>\n",
              "      <td>1.0</td>\n",
              "      <td>latitude</td>\n",
              "      <td>330.246667</td>\n",
              "      <td>2.008968e+09</td>\n",
              "      <td>NaN</td>\n",
              "      <td>NaN</td>\n",
              "      <td>8.493039e-74</td>\n",
              "      <td>2.432580e-01</td>\n",
              "      <td>NaN</td>\n",
              "      <td>NaN</td>\n",
              "    </tr>\n",
              "    <tr>\n",
              "      <th>1</th>\n",
              "      <td>1.0</td>\n",
              "      <td>1.0</td>\n",
              "      <td>longitude</td>\n",
              "      <td>180.537671</td>\n",
              "      <td>1.951497e+09</td>\n",
              "      <td>NaN</td>\n",
              "      <td>NaN</td>\n",
              "      <td>3.698502e-41</td>\n",
              "      <td>3.378822e-17</td>\n",
              "      <td>NaN</td>\n",
              "      <td>NaN</td>\n",
              "    </tr>\n",
              "    <tr>\n",
              "      <th>2</th>\n",
              "      <td>1.0</td>\n",
              "      <td>1.0</td>\n",
              "      <td>nperps</td>\n",
              "      <td>37011.573093</td>\n",
              "      <td>1.309331e+09</td>\n",
              "      <td>NaN</td>\n",
              "      <td>NaN</td>\n",
              "      <td>0.000000e+00</td>\n",
              "      <td>0.000000e+00</td>\n",
              "      <td>NaN</td>\n",
              "      <td>NaN</td>\n",
              "    </tr>\n",
              "    <tr>\n",
              "      <th>3</th>\n",
              "      <td>1.0</td>\n",
              "      <td>1.0</td>\n",
              "      <td>nperpcap</td>\n",
              "      <td>233.210725</td>\n",
              "      <td>1.915005e+09</td>\n",
              "      <td>NaN</td>\n",
              "      <td>NaN</td>\n",
              "      <td>1.188934e-52</td>\n",
              "      <td>4.967254e-53</td>\n",
              "      <td>NaN</td>\n",
              "      <td>NaN</td>\n",
              "    </tr>\n",
              "    <tr>\n",
              "      <th>4</th>\n",
              "      <td>1.0</td>\n",
              "      <td>1.0</td>\n",
              "      <td>nkill</td>\n",
              "      <td>8521.045795</td>\n",
              "      <td>1.604894e+09</td>\n",
              "      <td>NaN</td>\n",
              "      <td>NaN</td>\n",
              "      <td>0.000000e+00</td>\n",
              "      <td>0.000000e+00</td>\n",
              "      <td>NaN</td>\n",
              "      <td>NaN</td>\n",
              "    </tr>\n",
              "    <tr>\n",
              "      <th>5</th>\n",
              "      <td>1.0</td>\n",
              "      <td>1.0</td>\n",
              "      <td>nkillter</td>\n",
              "      <td>29810.896950</td>\n",
              "      <td>1.995354e+09</td>\n",
              "      <td>NaN</td>\n",
              "      <td>NaN</td>\n",
              "      <td>0.000000e+00</td>\n",
              "      <td>2.255053e-03</td>\n",
              "      <td>NaN</td>\n",
              "      <td>NaN</td>\n",
              "    </tr>\n",
              "    <tr>\n",
              "      <th>6</th>\n",
              "      <td>1.0</td>\n",
              "      <td>1.0</td>\n",
              "      <td>nwound</td>\n",
              "      <td>56532.868985</td>\n",
              "      <td>1.838972e+09</td>\n",
              "      <td>NaN</td>\n",
              "      <td>NaN</td>\n",
              "      <td>0.000000e+00</td>\n",
              "      <td>1.513437e-145</td>\n",
              "      <td>NaN</td>\n",
              "      <td>NaN</td>\n",
              "    </tr>\n",
              "    <tr>\n",
              "      <th>7</th>\n",
              "      <td>1.0</td>\n",
              "      <td>1.0</td>\n",
              "      <td>nwoundte</td>\n",
              "      <td>25032.434771</td>\n",
              "      <td>1.995454e+09</td>\n",
              "      <td>NaN</td>\n",
              "      <td>NaN</td>\n",
              "      <td>0.000000e+00</td>\n",
              "      <td>1.635388e-03</td>\n",
              "      <td>NaN</td>\n",
              "      <td>NaN</td>\n",
              "    </tr>\n",
              "    <tr>\n",
              "      <th>8</th>\n",
              "      <td>1.0</td>\n",
              "      <td>1.0</td>\n",
              "      <td>propvalue</td>\n",
              "      <td>130457.666482</td>\n",
              "      <td>1.429819e+09</td>\n",
              "      <td>NaN</td>\n",
              "      <td>NaN</td>\n",
              "      <td>0.000000e+00</td>\n",
              "      <td>0.000000e+00</td>\n",
              "      <td>NaN</td>\n",
              "      <td>NaN</td>\n",
              "    </tr>\n",
              "    <tr>\n",
              "      <th>9</th>\n",
              "      <td>1.0</td>\n",
              "      <td>1.0</td>\n",
              "      <td>nhostkid</td>\n",
              "      <td>30367.228842</td>\n",
              "      <td>1.323619e+09</td>\n",
              "      <td>NaN</td>\n",
              "      <td>NaN</td>\n",
              "      <td>0.000000e+00</td>\n",
              "      <td>0.000000e+00</td>\n",
              "      <td>NaN</td>\n",
              "      <td>NaN</td>\n",
              "    </tr>\n",
              "    <tr>\n",
              "      <th>10</th>\n",
              "      <td>1.0</td>\n",
              "      <td>1.0</td>\n",
              "      <td>ransomamt</td>\n",
              "      <td>125750.919505</td>\n",
              "      <td>1.312285e+09</td>\n",
              "      <td>NaN</td>\n",
              "      <td>NaN</td>\n",
              "      <td>0.000000e+00</td>\n",
              "      <td>0.000000e+00</td>\n",
              "      <td>NaN</td>\n",
              "      <td>NaN</td>\n",
              "    </tr>\n",
              "    <tr>\n",
              "      <th>11</th>\n",
              "      <td>1.0</td>\n",
              "      <td>1.0</td>\n",
              "      <td>ransompaid</td>\n",
              "      <td>99492.323530</td>\n",
              "      <td>1.309425e+09</td>\n",
              "      <td>NaN</td>\n",
              "      <td>NaN</td>\n",
              "      <td>0.000000e+00</td>\n",
              "      <td>0.000000e+00</td>\n",
              "      <td>NaN</td>\n",
              "      <td>NaN</td>\n",
              "    </tr>\n",
              "  </tbody>\n",
              "</table>\n",
              "</div>"
            ],
            "text/plain": [
              "    shap_grp1  shap_grp2  ... anova_p_values  ttest_p_values\n",
              "0         1.0        1.0  ...            NaN             NaN\n",
              "1         1.0        1.0  ...            NaN             NaN\n",
              "2         1.0        1.0  ...            NaN             NaN\n",
              "3         1.0        1.0  ...            NaN             NaN\n",
              "4         1.0        1.0  ...            NaN             NaN\n",
              "5         1.0        1.0  ...            NaN             NaN\n",
              "6         1.0        1.0  ...            NaN             NaN\n",
              "7         1.0        1.0  ...            NaN             NaN\n",
              "8         1.0        1.0  ...            NaN             NaN\n",
              "9         1.0        1.0  ...            NaN             NaN\n",
              "10        1.0        1.0  ...            NaN             NaN\n",
              "11        1.0        1.0  ...            NaN             NaN\n",
              "\n",
              "[12 rows x 11 columns]"
            ]
          },
          "metadata": {
            "tags": []
          },
          "execution_count": 350
        }
      ]
    },
    {
      "cell_type": "code",
      "metadata": {
        "id": "c0zT7lOkqqQ9",
        "colab_type": "code",
        "colab": {
          "base_uri": "https://localhost:8080/",
          "height": 373
        },
        "outputId": "940186eb-de2b-4d66-c034-770a35b7577b"
      },
      "source": [
        "num_pval[num_pval['manwhit_p_values']<0.05]"
      ],
      "execution_count": 351,
      "outputs": [
        {
          "output_type": "execute_result",
          "data": {
            "text/html": [
              "<div>\n",
              "<style scoped>\n",
              "    .dataframe tbody tr th:only-of-type {\n",
              "        vertical-align: middle;\n",
              "    }\n",
              "\n",
              "    .dataframe tbody tr th {\n",
              "        vertical-align: top;\n",
              "    }\n",
              "\n",
              "    .dataframe thead th {\n",
              "        text-align: right;\n",
              "    }\n",
              "</style>\n",
              "<table border=\"1\" class=\"dataframe\">\n",
              "  <thead>\n",
              "    <tr style=\"text-align: right;\">\n",
              "      <th></th>\n",
              "      <th>shap_grp1</th>\n",
              "      <th>shap_grp2</th>\n",
              "      <th>num_col_name</th>\n",
              "      <th>barlett_stat</th>\n",
              "      <th>manwhit_stat</th>\n",
              "      <th>anova_stat</th>\n",
              "      <th>ttest_stat</th>\n",
              "      <th>barlett_p_values</th>\n",
              "      <th>manwhit_p_values</th>\n",
              "      <th>anova_p_values</th>\n",
              "      <th>ttest_p_values</th>\n",
              "    </tr>\n",
              "  </thead>\n",
              "  <tbody>\n",
              "    <tr>\n",
              "      <th>1</th>\n",
              "      <td>1.0</td>\n",
              "      <td>1.0</td>\n",
              "      <td>longitude</td>\n",
              "      <td>180.537671</td>\n",
              "      <td>1.951497e+09</td>\n",
              "      <td>NaN</td>\n",
              "      <td>NaN</td>\n",
              "      <td>3.698502e-41</td>\n",
              "      <td>3.378822e-17</td>\n",
              "      <td>NaN</td>\n",
              "      <td>NaN</td>\n",
              "    </tr>\n",
              "    <tr>\n",
              "      <th>2</th>\n",
              "      <td>1.0</td>\n",
              "      <td>1.0</td>\n",
              "      <td>nperps</td>\n",
              "      <td>37011.573093</td>\n",
              "      <td>1.309331e+09</td>\n",
              "      <td>NaN</td>\n",
              "      <td>NaN</td>\n",
              "      <td>0.000000e+00</td>\n",
              "      <td>0.000000e+00</td>\n",
              "      <td>NaN</td>\n",
              "      <td>NaN</td>\n",
              "    </tr>\n",
              "    <tr>\n",
              "      <th>3</th>\n",
              "      <td>1.0</td>\n",
              "      <td>1.0</td>\n",
              "      <td>nperpcap</td>\n",
              "      <td>233.210725</td>\n",
              "      <td>1.915005e+09</td>\n",
              "      <td>NaN</td>\n",
              "      <td>NaN</td>\n",
              "      <td>1.188934e-52</td>\n",
              "      <td>4.967254e-53</td>\n",
              "      <td>NaN</td>\n",
              "      <td>NaN</td>\n",
              "    </tr>\n",
              "    <tr>\n",
              "      <th>4</th>\n",
              "      <td>1.0</td>\n",
              "      <td>1.0</td>\n",
              "      <td>nkill</td>\n",
              "      <td>8521.045795</td>\n",
              "      <td>1.604894e+09</td>\n",
              "      <td>NaN</td>\n",
              "      <td>NaN</td>\n",
              "      <td>0.000000e+00</td>\n",
              "      <td>0.000000e+00</td>\n",
              "      <td>NaN</td>\n",
              "      <td>NaN</td>\n",
              "    </tr>\n",
              "    <tr>\n",
              "      <th>5</th>\n",
              "      <td>1.0</td>\n",
              "      <td>1.0</td>\n",
              "      <td>nkillter</td>\n",
              "      <td>29810.896950</td>\n",
              "      <td>1.995354e+09</td>\n",
              "      <td>NaN</td>\n",
              "      <td>NaN</td>\n",
              "      <td>0.000000e+00</td>\n",
              "      <td>2.255053e-03</td>\n",
              "      <td>NaN</td>\n",
              "      <td>NaN</td>\n",
              "    </tr>\n",
              "    <tr>\n",
              "      <th>6</th>\n",
              "      <td>1.0</td>\n",
              "      <td>1.0</td>\n",
              "      <td>nwound</td>\n",
              "      <td>56532.868985</td>\n",
              "      <td>1.838972e+09</td>\n",
              "      <td>NaN</td>\n",
              "      <td>NaN</td>\n",
              "      <td>0.000000e+00</td>\n",
              "      <td>1.513437e-145</td>\n",
              "      <td>NaN</td>\n",
              "      <td>NaN</td>\n",
              "    </tr>\n",
              "    <tr>\n",
              "      <th>7</th>\n",
              "      <td>1.0</td>\n",
              "      <td>1.0</td>\n",
              "      <td>nwoundte</td>\n",
              "      <td>25032.434771</td>\n",
              "      <td>1.995454e+09</td>\n",
              "      <td>NaN</td>\n",
              "      <td>NaN</td>\n",
              "      <td>0.000000e+00</td>\n",
              "      <td>1.635388e-03</td>\n",
              "      <td>NaN</td>\n",
              "      <td>NaN</td>\n",
              "    </tr>\n",
              "    <tr>\n",
              "      <th>8</th>\n",
              "      <td>1.0</td>\n",
              "      <td>1.0</td>\n",
              "      <td>propvalue</td>\n",
              "      <td>130457.666482</td>\n",
              "      <td>1.429819e+09</td>\n",
              "      <td>NaN</td>\n",
              "      <td>NaN</td>\n",
              "      <td>0.000000e+00</td>\n",
              "      <td>0.000000e+00</td>\n",
              "      <td>NaN</td>\n",
              "      <td>NaN</td>\n",
              "    </tr>\n",
              "    <tr>\n",
              "      <th>9</th>\n",
              "      <td>1.0</td>\n",
              "      <td>1.0</td>\n",
              "      <td>nhostkid</td>\n",
              "      <td>30367.228842</td>\n",
              "      <td>1.323619e+09</td>\n",
              "      <td>NaN</td>\n",
              "      <td>NaN</td>\n",
              "      <td>0.000000e+00</td>\n",
              "      <td>0.000000e+00</td>\n",
              "      <td>NaN</td>\n",
              "      <td>NaN</td>\n",
              "    </tr>\n",
              "    <tr>\n",
              "      <th>10</th>\n",
              "      <td>1.0</td>\n",
              "      <td>1.0</td>\n",
              "      <td>ransomamt</td>\n",
              "      <td>125750.919505</td>\n",
              "      <td>1.312285e+09</td>\n",
              "      <td>NaN</td>\n",
              "      <td>NaN</td>\n",
              "      <td>0.000000e+00</td>\n",
              "      <td>0.000000e+00</td>\n",
              "      <td>NaN</td>\n",
              "      <td>NaN</td>\n",
              "    </tr>\n",
              "    <tr>\n",
              "      <th>11</th>\n",
              "      <td>1.0</td>\n",
              "      <td>1.0</td>\n",
              "      <td>ransompaid</td>\n",
              "      <td>99492.323530</td>\n",
              "      <td>1.309425e+09</td>\n",
              "      <td>NaN</td>\n",
              "      <td>NaN</td>\n",
              "      <td>0.000000e+00</td>\n",
              "      <td>0.000000e+00</td>\n",
              "      <td>NaN</td>\n",
              "      <td>NaN</td>\n",
              "    </tr>\n",
              "  </tbody>\n",
              "</table>\n",
              "</div>"
            ],
            "text/plain": [
              "    shap_grp1  shap_grp2  ... anova_p_values  ttest_p_values\n",
              "1         1.0        1.0  ...            NaN             NaN\n",
              "2         1.0        1.0  ...            NaN             NaN\n",
              "3         1.0        1.0  ...            NaN             NaN\n",
              "4         1.0        1.0  ...            NaN             NaN\n",
              "5         1.0        1.0  ...            NaN             NaN\n",
              "6         1.0        1.0  ...            NaN             NaN\n",
              "7         1.0        1.0  ...            NaN             NaN\n",
              "8         1.0        1.0  ...            NaN             NaN\n",
              "9         1.0        1.0  ...            NaN             NaN\n",
              "10        1.0        1.0  ...            NaN             NaN\n",
              "11        1.0        1.0  ...            NaN             NaN\n",
              "\n",
              "[11 rows x 11 columns]"
            ]
          },
          "metadata": {
            "tags": []
          },
          "execution_count": 351
        }
      ]
    },
    {
      "cell_type": "code",
      "metadata": {
        "id": "LR3Vcb4UqyzW",
        "colab_type": "code",
        "colab": {}
      },
      "source": [
        ""
      ],
      "execution_count": null,
      "outputs": []
    },
    {
      "cell_type": "code",
      "metadata": {
        "id": "TANuztRnq6qs",
        "colab_type": "code",
        "colab": {
          "base_uri": "https://localhost:8080/",
          "height": 185
        },
        "outputId": "ae6ef101-30a5-4123-bbad-a44eec1764d0"
      },
      "source": [
        "td1.columns"
      ],
      "execution_count": 352,
      "outputs": [
        {
          "output_type": "execute_result",
          "data": {
            "text/plain": [
              "Index(['eventid', 'iyear', 'imonth', 'iday', 'extended', 'crit1', 'crit2',\n",
              "       'crit3', 'multiple', 'country', 'country_txt', 'region', 'region_txt',\n",
              "       'city', 'specificity', 'attacktype1', 'attacktype1_txt', 'success',\n",
              "       'suicide', 'weaptype1', 'weaptype1_txt', 'targtype1', 'targtype1_txt',\n",
              "       'natlty1', 'natlty1_txt', 'individual', 'gname', 'claimed', 'property',\n",
              "       'INT_IDEO', 'doubtterr', 'alternative_txt', 'related', 'latitude',\n",
              "       'longitude', 'nperps', 'nperpcap', 'nkill', 'nkillter', 'nwound',\n",
              "       'nwoundte', 'propvalue', 'nhostkid', 'ransomamt', 'ransompaid',\n",
              "       'related_count'],\n",
              "      dtype='object')"
            ]
          },
          "metadata": {
            "tags": []
          },
          "execution_count": 352
        }
      ]
    },
    {
      "cell_type": "code",
      "metadata": {
        "id": "pFpw4kczsRpp",
        "colab_type": "code",
        "colab": {}
      },
      "source": [
        ""
      ],
      "execution_count": null,
      "outputs": []
    },
    {
      "cell_type": "markdown",
      "metadata": {
        "id": "no2pAX0xsRCU",
        "colab_type": "text"
      },
      "source": [
        "# STANDARD SCALER MAKES NO CHANGE IN SKEW \n",
        "\n",
        "\n"
      ]
    },
    {
      "cell_type": "code",
      "metadata": {
        "id": "atmS6rn7q-dK",
        "colab_type": "code",
        "colab": {
          "base_uri": "https://localhost:8080/",
          "height": 218
        },
        "outputId": "a6c0ad75-48e8-47c8-fc95-854e4fafadc6"
      },
      "source": [
        "for col in num_cols:\n",
        "  print(td1[col].skew())"
      ],
      "execution_count": 353,
      "outputs": [
        {
          "output_type": "stream",
          "text": [
            "-0.957207902889711\n",
            "-0.8222029508306405\n",
            "91.51736636931197\n",
            "-6.821201958385477\n",
            "52.40213239119132\n",
            "42.067044462488624\n",
            "168.14007932718758\n",
            "50.362823418098365\n",
            "70.41141640323197\n",
            "54.204189571510334\n",
            "22.795937512866445\n",
            "19.119112570759953\n"
          ],
          "name": "stdout"
        }
      ]
    },
    {
      "cell_type": "code",
      "metadata": {
        "id": "pb01kdGirNWC",
        "colab_type": "code",
        "colab": {}
      },
      "source": [
        "from sklearn.preprocessing import StandardScaler\n",
        "std_scaler = StandardScaler()\n",
        "td1_num_std=std_scaler.fit_transform(td1[num_cols])\n",
        "td1_num_std=pd.DataFrame(td1_num_std, columns=num_cols)"
      ],
      "execution_count": 354,
      "outputs": []
    },
    {
      "cell_type": "code",
      "metadata": {
        "id": "scH3YVdJsl9D",
        "colab_type": "code",
        "colab": {
          "base_uri": "https://localhost:8080/",
          "height": 218
        },
        "outputId": "467ac06d-3713-4d15-c2c8-4ed8f528be44"
      },
      "source": [
        "for col in num_cols:\n",
        "  print(td1_num_std[col].skew())"
      ],
      "execution_count": 355,
      "outputs": [
        {
          "output_type": "stream",
          "text": [
            "-0.9572079028897111\n",
            "-0.8222029508306402\n",
            "91.517366369312\n",
            "-6.821201958385473\n",
            "52.40213239119134\n",
            "42.0670444624886\n",
            "168.14007932718746\n",
            "50.362823418098365\n",
            "70.41141640323191\n",
            "54.2041895715103\n",
            "22.795937512866438\n",
            "19.119112570759942\n"
          ],
          "name": "stdout"
        }
      ]
    },
    {
      "cell_type": "code",
      "metadata": {
        "id": "x3ZNgl_utLwT",
        "colab_type": "code",
        "colab": {}
      },
      "source": [
        ""
      ],
      "execution_count": null,
      "outputs": []
    },
    {
      "cell_type": "markdown",
      "metadata": {
        "id": "Ror2X77BsslM",
        "colab_type": "text"
      },
      "source": [
        "# YEO_JOHNSON ANY CHANGE IN SKEW ?\n"
      ]
    },
    {
      "cell_type": "code",
      "metadata": {
        "id": "aHeSSvIws2ax",
        "colab_type": "code",
        "colab": {
          "base_uri": "https://localhost:8080/",
          "height": 195
        },
        "outputId": "f53d14a6-f265-4cda-e107-007c176ea854"
      },
      "source": [
        "from sklearn.preprocessing import PowerTransformer\n",
        "\n",
        "pt_yeo = PowerTransformer(method='yeo-johnson', copy=True)\n",
        "td1_num_yeo = pt_yeo.fit_transform(td1[num_cols])\n",
        "td1_num_yeo = pd.DataFrame(td1_num_yeo, columns=num_cols)\n",
        "td1_num_yeo.head()"
      ],
      "execution_count": 359,
      "outputs": [
        {
          "output_type": "execute_result",
          "data": {
            "text/html": [
              "<div>\n",
              "<style scoped>\n",
              "    .dataframe tbody tr th:only-of-type {\n",
              "        vertical-align: middle;\n",
              "    }\n",
              "\n",
              "    .dataframe tbody tr th {\n",
              "        vertical-align: top;\n",
              "    }\n",
              "\n",
              "    .dataframe thead th {\n",
              "        text-align: right;\n",
              "    }\n",
              "</style>\n",
              "<table border=\"1\" class=\"dataframe\">\n",
              "  <thead>\n",
              "    <tr style=\"text-align: right;\">\n",
              "      <th></th>\n",
              "      <th>latitude</th>\n",
              "      <th>longitude</th>\n",
              "      <th>nperps</th>\n",
              "      <th>nperpcap</th>\n",
              "      <th>nkill</th>\n",
              "      <th>nkillter</th>\n",
              "      <th>nwound</th>\n",
              "      <th>nwoundte</th>\n",
              "      <th>propvalue</th>\n",
              "      <th>nhostkid</th>\n",
              "      <th>ransomamt</th>\n",
              "      <th>ransompaid</th>\n",
              "    </tr>\n",
              "  </thead>\n",
              "  <tbody>\n",
              "    <tr>\n",
              "      <th>0</th>\n",
              "      <td>-0.444783</td>\n",
              "      <td>-1.540087</td>\n",
              "      <td>NaN</td>\n",
              "      <td>NaN</td>\n",
              "      <td>0.444343</td>\n",
              "      <td>NaN</td>\n",
              "      <td>-0.770908</td>\n",
              "      <td>NaN</td>\n",
              "      <td>NaN</td>\n",
              "      <td>NaN</td>\n",
              "      <td>NaN</td>\n",
              "      <td>NaN</td>\n",
              "    </tr>\n",
              "    <tr>\n",
              "      <th>1</th>\n",
              "      <td>-0.388388</td>\n",
              "      <td>-1.798341</td>\n",
              "      <td>0.378059</td>\n",
              "      <td>NaN</td>\n",
              "      <td>-0.924496</td>\n",
              "      <td>NaN</td>\n",
              "      <td>-0.770908</td>\n",
              "      <td>NaN</td>\n",
              "      <td>NaN</td>\n",
              "      <td>-0.988176</td>\n",
              "      <td>0.71849</td>\n",
              "      <td>NaN</td>\n",
              "    </tr>\n",
              "    <tr>\n",
              "      <th>2</th>\n",
              "      <td>-0.625239</td>\n",
              "      <td>2.054074</td>\n",
              "      <td>NaN</td>\n",
              "      <td>NaN</td>\n",
              "      <td>0.444343</td>\n",
              "      <td>NaN</td>\n",
              "      <td>-0.770908</td>\n",
              "      <td>NaN</td>\n",
              "      <td>NaN</td>\n",
              "      <td>NaN</td>\n",
              "      <td>NaN</td>\n",
              "      <td>NaN</td>\n",
              "    </tr>\n",
              "    <tr>\n",
              "      <th>3</th>\n",
              "      <td>0.833952</td>\n",
              "      <td>-0.353311</td>\n",
              "      <td>NaN</td>\n",
              "      <td>NaN</td>\n",
              "      <td>NaN</td>\n",
              "      <td>NaN</td>\n",
              "      <td>NaN</td>\n",
              "      <td>NaN</td>\n",
              "      <td>NaN</td>\n",
              "      <td>NaN</td>\n",
              "      <td>NaN</td>\n",
              "      <td>NaN</td>\n",
              "    </tr>\n",
              "    <tr>\n",
              "      <th>4</th>\n",
              "      <td>0.765844</td>\n",
              "      <td>-1.711655</td>\n",
              "      <td>NaN</td>\n",
              "      <td>-5.837894</td>\n",
              "      <td>-0.924496</td>\n",
              "      <td>-0.360005</td>\n",
              "      <td>-0.770908</td>\n",
              "      <td>-0.149083</td>\n",
              "      <td>NaN</td>\n",
              "      <td>NaN</td>\n",
              "      <td>NaN</td>\n",
              "      <td>NaN</td>\n",
              "    </tr>\n",
              "  </tbody>\n",
              "</table>\n",
              "</div>"
            ],
            "text/plain": [
              "   latitude  longitude    nperps  ...  nhostkid  ransomamt  ransompaid\n",
              "0 -0.444783  -1.540087       NaN  ...       NaN        NaN         NaN\n",
              "1 -0.388388  -1.798341  0.378059  ... -0.988176    0.71849         NaN\n",
              "2 -0.625239   2.054074       NaN  ...       NaN        NaN         NaN\n",
              "3  0.833952  -0.353311       NaN  ...       NaN        NaN         NaN\n",
              "4  0.765844  -1.711655       NaN  ...       NaN        NaN         NaN\n",
              "\n",
              "[5 rows x 12 columns]"
            ]
          },
          "metadata": {
            "tags": []
          },
          "execution_count": 359
        }
      ]
    },
    {
      "cell_type": "code",
      "metadata": {
        "id": "A1EymX6UtEl2",
        "colab_type": "code",
        "colab": {
          "base_uri": "https://localhost:8080/",
          "height": 218
        },
        "outputId": "9595b7cc-9a6b-441a-d5d7-b280053e2ca3"
      },
      "source": [
        "for col in num_cols:\n",
        "  print(td1_num_yeo[col].skew())"
      ],
      "execution_count": 360,
      "outputs": [
        {
          "output_type": "stream",
          "text": [
            "-0.3052490621364541\n",
            "-0.008477532329256326\n",
            "-9.315412768977572\n",
            "40.132524043835474\n",
            "0.40540961113856244\n",
            "2.4178253470692797\n",
            "0.6478000684285133\n",
            "6.558658498327278\n",
            "0.17751348547476434\n",
            "0.42840138338879924\n",
            "-0.27071230374600325\n",
            "-1.1392100965753422\n"
          ],
          "name": "stdout"
        }
      ]
    },
    {
      "cell_type": "code",
      "metadata": {
        "id": "-Yrpm1anuNQh",
        "colab_type": "code",
        "colab": {}
      },
      "source": [
        ""
      ],
      "execution_count": null,
      "outputs": []
    },
    {
      "cell_type": "code",
      "metadata": {
        "id": "YkLafr_CvVd_",
        "colab_type": "code",
        "colab": {}
      },
      "source": [
        ""
      ],
      "execution_count": null,
      "outputs": []
    }
  ]
}